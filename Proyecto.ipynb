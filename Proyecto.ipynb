{
 "cells": [
  {
   "cell_type": "markdown",
   "metadata": {},
   "source": [
    "# Lectura de archivos .csv"
   ]
  },
  {
   "cell_type": "code",
   "execution_count": 12,
   "metadata": {},
   "outputs": [],
   "source": [
    "import pandas as pd\n",
    "import numpy as np\n",
    "import seaborn as sns\n",
    "import matplotlib.pyplot as plt\n",
    "sns.set()\n",
    "from pandas_profiling import ProfileReport"
   ]
  },
  {
   "cell_type": "code",
   "execution_count": 13,
   "metadata": {},
   "outputs": [
    {
     "data": {
      "text/html": [
       "<div>\n",
       "<style scoped>\n",
       "    .dataframe tbody tr th:only-of-type {\n",
       "        vertical-align: middle;\n",
       "    }\n",
       "\n",
       "    .dataframe tbody tr th {\n",
       "        vertical-align: top;\n",
       "    }\n",
       "\n",
       "    .dataframe thead th {\n",
       "        text-align: right;\n",
       "    }\n",
       "</style>\n",
       "<table border=\"1\" class=\"dataframe\">\n",
       "  <thead>\n",
       "    <tr style=\"text-align: right;\">\n",
       "      <th></th>\n",
       "      <th>ID</th>\n",
       "      <th>Provincia</th>\n",
       "      <th>Nombre_y_Apellido</th>\n",
       "      <th>Domicilio</th>\n",
       "      <th>Telefono</th>\n",
       "      <th>Edad</th>\n",
       "      <th>Localidad</th>\n",
       "      <th>X</th>\n",
       "      <th>Y</th>\n",
       "      <th>col10</th>\n",
       "    </tr>\n",
       "  </thead>\n",
       "  <tbody>\n",
       "    <tr>\n",
       "      <th>0</th>\n",
       "      <td>1</td>\n",
       "      <td>Buenos Aires</td>\n",
       "      <td>HEBER JONI SANTANA</td>\n",
       "      <td>LAS HERAS Y BAT. 24 DE FEBRERO 4150  RINCON DE...</td>\n",
       "      <td>42-5161</td>\n",
       "      <td>58</td>\n",
       "      <td>LOMA VERDE</td>\n",
       "      <td>-58,81850307</td>\n",
       "      <td>-34,30997088</td>\n",
       "      <td>NaN</td>\n",
       "    </tr>\n",
       "    <tr>\n",
       "      <th>1</th>\n",
       "      <td>2</td>\n",
       "      <td>Buenos Aires</td>\n",
       "      <td>ANA SAPRIZA</td>\n",
       "      <td>PUEYRREDON Y DUPUY RUTA3 KM 52.500 S/N  BÂº LO...</td>\n",
       "      <td>49-7578</td>\n",
       "      <td>61</td>\n",
       "      <td>SANTA ROSA</td>\n",
       "      <td>-58,73073751</td>\n",
       "      <td>-34,93908311</td>\n",
       "      <td>NaN</td>\n",
       "    </tr>\n",
       "    <tr>\n",
       "      <th>2</th>\n",
       "      <td>3</td>\n",
       "      <td>Buenos Aires</td>\n",
       "      <td>FERNANDO LUIS SARALEGUI</td>\n",
       "      <td>CALDERON DE LA BARCA 498</td>\n",
       "      <td>49-3435</td>\n",
       "      <td>15</td>\n",
       "      <td>TORRES</td>\n",
       "      <td>-59,12794068</td>\n",
       "      <td>-34,43082199</td>\n",
       "      <td>NaN</td>\n",
       "    </tr>\n",
       "    <tr>\n",
       "      <th>3</th>\n",
       "      <td>4</td>\n",
       "      <td>Buenos Aires</td>\n",
       "      <td>MANUELA SARASOLA</td>\n",
       "      <td>RUTA 36 KM 45,500 S/N  EL PELIGRO</td>\n",
       "      <td>49-2883</td>\n",
       "      <td>29</td>\n",
       "      <td>RUTA SOL</td>\n",
       "      <td>-58,14393954</td>\n",
       "      <td>-34,92052706</td>\n",
       "      <td>NaN</td>\n",
       "    </tr>\n",
       "    <tr>\n",
       "      <th>4</th>\n",
       "      <td>5</td>\n",
       "      <td>Buenos Aires</td>\n",
       "      <td>MARIO RAÚL SARASUA</td>\n",
       "      <td>492 Y 186 S/N  COLONIA URQUIZA</td>\n",
       "      <td>491-4608</td>\n",
       "      <td>34</td>\n",
       "      <td>JOSE MELCHOR ROMERO</td>\n",
       "      <td>-58,089381</td>\n",
       "      <td>-34,9444471</td>\n",
       "      <td>NaN</td>\n",
       "    </tr>\n",
       "  </tbody>\n",
       "</table>\n",
       "</div>"
      ],
      "text/plain": [
       "   ID     Provincia        Nombre_y_Apellido  \\\n",
       "0   1  Buenos Aires       HEBER JONI SANTANA   \n",
       "1   2  Buenos Aires              ANA SAPRIZA   \n",
       "2   3  Buenos Aires  FERNANDO LUIS SARALEGUI   \n",
       "3   4  Buenos Aires         MANUELA SARASOLA   \n",
       "4   5  Buenos Aires       MARIO RAÚL SARASUA   \n",
       "\n",
       "                                           Domicilio  Telefono  Edad  \\\n",
       "0  LAS HERAS Y BAT. 24 DE FEBRERO 4150  RINCON DE...   42-5161    58   \n",
       "1  PUEYRREDON Y DUPUY RUTA3 KM 52.500 S/N  BÂº LO...   49-7578    61   \n",
       "2                           CALDERON DE LA BARCA 498   49-3435    15   \n",
       "3                  RUTA 36 KM 45,500 S/N  EL PELIGRO   49-2883    29   \n",
       "4                     492 Y 186 S/N  COLONIA URQUIZA  491-4608    34   \n",
       "\n",
       "             Localidad             X             Y  col10  \n",
       "0           LOMA VERDE  -58,81850307  -34,30997088    NaN  \n",
       "1           SANTA ROSA  -58,73073751  -34,93908311    NaN  \n",
       "2               TORRES  -59,12794068  -34,43082199    NaN  \n",
       "3             RUTA SOL  -58,14393954  -34,92052706    NaN  \n",
       "4  JOSE MELCHOR ROMERO    -58,089381   -34,9444471    NaN  "
      ]
     },
     "execution_count": 13,
     "metadata": {},
     "output_type": "execute_result"
    }
   ],
   "source": [
    "# Dataset Clientes\n",
    "\n",
    "cliente = pd.read_csv('Datasets/clientes.csv', delimiter = ';',encoding = \"utf-8\")\n",
    "cliente.head(5)"
   ]
  },
  {
   "cell_type": "code",
   "execution_count": 15,
   "metadata": {},
   "outputs": [
    {
     "name": "stdout",
     "output_type": "stream",
     "text": [
      "<class 'pandas.core.frame.DataFrame'>\n",
      "RangeIndex: 2672 entries, 0 to 2671\n",
      "Data columns (total 10 columns):\n",
      " #   Column             Non-Null Count  Dtype  \n",
      "---  ------             --------------  -----  \n",
      " 0   ID                 2672 non-null   int64  \n",
      " 1   Provincia          2647 non-null   object \n",
      " 2   Nombre_y_Apellido  2648 non-null   object \n",
      " 3   Domicilio          2630 non-null   object \n",
      " 4   Telefono           2637 non-null   object \n",
      " 5   Edad               2672 non-null   int64  \n",
      " 6   Localidad          2647 non-null   object \n",
      " 7   X                  2616 non-null   object \n",
      " 8   Y                  2618 non-null   object \n",
      " 9   col10              0 non-null      float64\n",
      "dtypes: float64(1), int64(2), object(7)\n",
      "memory usage: 208.9+ KB\n"
     ]
    }
   ],
   "source": [
    "cliente.info()"
   ]
  },
  {
   "cell_type": "code",
   "execution_count": 4,
   "metadata": {},
   "outputs": [],
   "source": [
    "# Se elimina la columna col10 puesto que esta vacia\n",
    "# cliente.drop(['col10'], axis=1,inplace=True)\n",
    "# cliente.head(5)"
   ]
  },
  {
   "cell_type": "code",
   "execution_count": 16,
   "metadata": {},
   "outputs": [
    {
     "data": {
      "text/html": [
       "<div>\n",
       "<style scoped>\n",
       "    .dataframe tbody tr th:only-of-type {\n",
       "        vertical-align: middle;\n",
       "    }\n",
       "\n",
       "    .dataframe tbody tr th {\n",
       "        vertical-align: top;\n",
       "    }\n",
       "\n",
       "    .dataframe thead th {\n",
       "        text-align: right;\n",
       "    }\n",
       "</style>\n",
       "<table border=\"1\" class=\"dataframe\">\n",
       "  <thead>\n",
       "    <tr style=\"text-align: right;\">\n",
       "      <th></th>\n",
       "      <th>IdCompra</th>\n",
       "      <th>Fecha</th>\n",
       "      <th>Fecha_Año</th>\n",
       "      <th>Fecha_Mes</th>\n",
       "      <th>Fecha_Periodo</th>\n",
       "      <th>IdProducto</th>\n",
       "      <th>Cantidad</th>\n",
       "      <th>Precio</th>\n",
       "      <th>IdProveedor</th>\n",
       "    </tr>\n",
       "  </thead>\n",
       "  <tbody>\n",
       "    <tr>\n",
       "      <th>0</th>\n",
       "      <td>1</td>\n",
       "      <td>1/30/2015</td>\n",
       "      <td>2015</td>\n",
       "      <td>1</td>\n",
       "      <td>201501</td>\n",
       "      <td>42832</td>\n",
       "      <td>13</td>\n",
       "      <td>560.51</td>\n",
       "      <td>12</td>\n",
       "    </tr>\n",
       "    <tr>\n",
       "      <th>1</th>\n",
       "      <td>2</td>\n",
       "      <td>1/30/2015</td>\n",
       "      <td>2015</td>\n",
       "      <td>1</td>\n",
       "      <td>201501</td>\n",
       "      <td>42833</td>\n",
       "      <td>11</td>\n",
       "      <td>497.58</td>\n",
       "      <td>7</td>\n",
       "    </tr>\n",
       "    <tr>\n",
       "      <th>2</th>\n",
       "      <td>3</td>\n",
       "      <td>1/30/2015</td>\n",
       "      <td>2015</td>\n",
       "      <td>1</td>\n",
       "      <td>201501</td>\n",
       "      <td>42834</td>\n",
       "      <td>1</td>\n",
       "      <td>588.50</td>\n",
       "      <td>6</td>\n",
       "    </tr>\n",
       "    <tr>\n",
       "      <th>3</th>\n",
       "      <td>4</td>\n",
       "      <td>1/30/2015</td>\n",
       "      <td>2015</td>\n",
       "      <td>1</td>\n",
       "      <td>201501</td>\n",
       "      <td>42835</td>\n",
       "      <td>9</td>\n",
       "      <td>567.66</td>\n",
       "      <td>14</td>\n",
       "    </tr>\n",
       "    <tr>\n",
       "      <th>4</th>\n",
       "      <td>5</td>\n",
       "      <td>1/30/2015</td>\n",
       "      <td>2015</td>\n",
       "      <td>1</td>\n",
       "      <td>201501</td>\n",
       "      <td>42839</td>\n",
       "      <td>14</td>\n",
       "      <td>231.31</td>\n",
       "      <td>2</td>\n",
       "    </tr>\n",
       "  </tbody>\n",
       "</table>\n",
       "</div>"
      ],
      "text/plain": [
       "   IdCompra      Fecha  Fecha_Año  Fecha_Mes  Fecha_Periodo  IdProducto  \\\n",
       "0         1  1/30/2015       2015          1         201501       42832   \n",
       "1         2  1/30/2015       2015          1         201501       42833   \n",
       "2         3  1/30/2015       2015          1         201501       42834   \n",
       "3         4  1/30/2015       2015          1         201501       42835   \n",
       "4         5  1/30/2015       2015          1         201501       42839   \n",
       "\n",
       "   Cantidad  Precio  IdProveedor  \n",
       "0        13  560.51           12  \n",
       "1        11  497.58            7  \n",
       "2         1  588.50            6  \n",
       "3         9  567.66           14  \n",
       "4        14  231.31            2  "
      ]
     },
     "execution_count": 16,
     "metadata": {},
     "output_type": "execute_result"
    }
   ],
   "source": [
    "# Dataset Compra\n",
    "\n",
    "compra = pd.read_csv('Datasets/compra.csv', delimiter = ',',encoding = \"utf-8\")\n",
    "compra.head(5)"
   ]
  },
  {
   "cell_type": "code",
   "execution_count": 17,
   "metadata": {},
   "outputs": [
    {
     "name": "stdout",
     "output_type": "stream",
     "text": [
      "<class 'pandas.core.frame.DataFrame'>\n",
      "RangeIndex: 11539 entries, 0 to 11538\n",
      "Data columns (total 9 columns):\n",
      " #   Column         Non-Null Count  Dtype  \n",
      "---  ------         --------------  -----  \n",
      " 0   IdCompra       11539 non-null  int64  \n",
      " 1   Fecha          11539 non-null  object \n",
      " 2   Fecha_Año      11539 non-null  int64  \n",
      " 3   Fecha_Mes      11539 non-null  int64  \n",
      " 4   Fecha_Periodo  11539 non-null  int64  \n",
      " 5   IdProducto     11539 non-null  int64  \n",
      " 6   Cantidad       11539 non-null  int64  \n",
      " 7   Precio         11172 non-null  float64\n",
      " 8   IdProveedor    11539 non-null  int64  \n",
      "dtypes: float64(1), int64(7), object(1)\n",
      "memory usage: 811.5+ KB\n"
     ]
    }
   ],
   "source": [
    "#visualizamos la informacion del dataframe compra\n",
    "compra.info()"
   ]
  },
  {
   "cell_type": "code",
   "execution_count": 7,
   "metadata": {},
   "outputs": [
    {
     "data": {
      "text/html": [
       "<div>\n",
       "<style scoped>\n",
       "    .dataframe tbody tr th:only-of-type {\n",
       "        vertical-align: middle;\n",
       "    }\n",
       "\n",
       "    .dataframe tbody tr th {\n",
       "        vertical-align: top;\n",
       "    }\n",
       "\n",
       "    .dataframe thead th {\n",
       "        text-align: right;\n",
       "    }\n",
       "</style>\n",
       "<table border=\"1\" class=\"dataframe\">\n",
       "  <thead>\n",
       "    <tr style=\"text-align: right;\">\n",
       "      <th></th>\n",
       "      <th>IdGasto</th>\n",
       "      <th>IdSucursal</th>\n",
       "      <th>IdTipoGasto</th>\n",
       "      <th>Fecha</th>\n",
       "      <th>Monto</th>\n",
       "    </tr>\n",
       "  </thead>\n",
       "  <tbody>\n",
       "    <tr>\n",
       "      <th>0</th>\n",
       "      <td>1</td>\n",
       "      <td>18</td>\n",
       "      <td>1</td>\n",
       "      <td>2015-01-01</td>\n",
       "      <td>1164.90</td>\n",
       "    </tr>\n",
       "    <tr>\n",
       "      <th>1</th>\n",
       "      <td>2</td>\n",
       "      <td>18</td>\n",
       "      <td>2</td>\n",
       "      <td>2015-01-01</td>\n",
       "      <td>317.02</td>\n",
       "    </tr>\n",
       "    <tr>\n",
       "      <th>2</th>\n",
       "      <td>3</td>\n",
       "      <td>18</td>\n",
       "      <td>3</td>\n",
       "      <td>2015-01-01</td>\n",
       "      <td>118.89</td>\n",
       "    </tr>\n",
       "    <tr>\n",
       "      <th>3</th>\n",
       "      <td>4</td>\n",
       "      <td>18</td>\n",
       "      <td>4</td>\n",
       "      <td>2015-01-01</td>\n",
       "      <td>1174.23</td>\n",
       "    </tr>\n",
       "    <tr>\n",
       "      <th>4</th>\n",
       "      <td>5</td>\n",
       "      <td>1</td>\n",
       "      <td>1</td>\n",
       "      <td>2015-01-01</td>\n",
       "      <td>1104.51</td>\n",
       "    </tr>\n",
       "  </tbody>\n",
       "</table>\n",
       "</div>"
      ],
      "text/plain": [
       "   IdGasto  IdSucursal  IdTipoGasto       Fecha    Monto\n",
       "0        1          18            1  2015-01-01  1164.90\n",
       "1        2          18            2  2015-01-01   317.02\n",
       "2        3          18            3  2015-01-01   118.89\n",
       "3        4          18            4  2015-01-01  1174.23\n",
       "4        5           1            1  2015-01-01  1104.51"
      ]
     },
     "execution_count": 7,
     "metadata": {},
     "output_type": "execute_result"
    }
   ],
   "source": [
    "# Dataset Gasto\n",
    "\n",
    "gasto = pd.read_csv('Datasets/gasto.csv', delimiter = ',',encoding = \"utf-8\")\n",
    "gasto.head(5)"
   ]
  },
  {
   "cell_type": "code",
   "execution_count": 18,
   "metadata": {},
   "outputs": [
    {
     "name": "stdout",
     "output_type": "stream",
     "text": [
      "<class 'pandas.core.frame.DataFrame'>\n",
      "RangeIndex: 8640 entries, 0 to 8639\n",
      "Data columns (total 5 columns):\n",
      " #   Column       Non-Null Count  Dtype  \n",
      "---  ------       --------------  -----  \n",
      " 0   IdGasto      8640 non-null   int64  \n",
      " 1   IdSucursal   8640 non-null   int64  \n",
      " 2   IdTipoGasto  8640 non-null   int64  \n",
      " 3   Fecha        8640 non-null   object \n",
      " 4   Monto        8640 non-null   float64\n",
      "dtypes: float64(1), int64(3), object(1)\n",
      "memory usage: 337.6+ KB\n"
     ]
    }
   ],
   "source": [
    "#visualizamos la informacion del dataframe gasto\n",
    "gasto.info()"
   ]
  },
  {
   "cell_type": "code",
   "execution_count": 19,
   "metadata": {},
   "outputs": [
    {
     "data": {
      "text/html": [
       "<div>\n",
       "<style scoped>\n",
       "    .dataframe tbody tr th:only-of-type {\n",
       "        vertical-align: middle;\n",
       "    }\n",
       "\n",
       "    .dataframe tbody tr th {\n",
       "        vertical-align: top;\n",
       "    }\n",
       "\n",
       "    .dataframe thead th {\n",
       "        text-align: right;\n",
       "    }\n",
       "</style>\n",
       "<table border=\"1\" class=\"dataframe\">\n",
       "  <thead>\n",
       "    <tr style=\"text-align: right;\">\n",
       "      <th></th>\n",
       "      <th>categoria</th>\n",
       "      <th>centroide_lat</th>\n",
       "      <th>centroide_lon</th>\n",
       "      <th>departamento_id</th>\n",
       "      <th>departamento_nombre</th>\n",
       "      <th>fuente</th>\n",
       "      <th>id</th>\n",
       "      <th>localidad_censal_id</th>\n",
       "      <th>localidad_censal_nombre</th>\n",
       "      <th>municipio_id</th>\n",
       "      <th>municipio_nombre</th>\n",
       "      <th>nombre</th>\n",
       "      <th>provincia_id</th>\n",
       "      <th>provincia_nombre</th>\n",
       "    </tr>\n",
       "  </thead>\n",
       "  <tbody>\n",
       "    <tr>\n",
       "      <th>0</th>\n",
       "      <td>Localidad simple</td>\n",
       "      <td>-35.033073</td>\n",
       "      <td>-60.280620</td>\n",
       "      <td>6021.0</td>\n",
       "      <td>Alberti</td>\n",
       "      <td>INDEC</td>\n",
       "      <td>6021010000</td>\n",
       "      <td>6021010</td>\n",
       "      <td>Alberti</td>\n",
       "      <td>60021.0</td>\n",
       "      <td>Alberti</td>\n",
       "      <td>ALBERTI</td>\n",
       "      <td>6</td>\n",
       "      <td>Buenos Aires</td>\n",
       "    </tr>\n",
       "    <tr>\n",
       "      <th>1</th>\n",
       "      <td>Localidad simple</td>\n",
       "      <td>-34.868119</td>\n",
       "      <td>-60.393971</td>\n",
       "      <td>6021.0</td>\n",
       "      <td>Alberti</td>\n",
       "      <td>INDEC</td>\n",
       "      <td>6021020000</td>\n",
       "      <td>6021020</td>\n",
       "      <td>Coronel Seguí</td>\n",
       "      <td>60021.0</td>\n",
       "      <td>Alberti</td>\n",
       "      <td>CORONEL SEGUI</td>\n",
       "      <td>6</td>\n",
       "      <td>Buenos Aires</td>\n",
       "    </tr>\n",
       "    <tr>\n",
       "      <th>2</th>\n",
       "      <td>Componente de localidad compuesta</td>\n",
       "      <td>-35.068014</td>\n",
       "      <td>-60.402597</td>\n",
       "      <td>6021.0</td>\n",
       "      <td>Alberti</td>\n",
       "      <td>INDEC</td>\n",
       "      <td>6021030000</td>\n",
       "      <td>6021030</td>\n",
       "      <td>Mechita</td>\n",
       "      <td>60021.0</td>\n",
       "      <td>Alberti</td>\n",
       "      <td>MECHITA</td>\n",
       "      <td>6</td>\n",
       "      <td>Buenos Aires</td>\n",
       "    </tr>\n",
       "    <tr>\n",
       "      <th>3</th>\n",
       "      <td>Localidad simple</td>\n",
       "      <td>-35.124382</td>\n",
       "      <td>-60.220061</td>\n",
       "      <td>6021.0</td>\n",
       "      <td>Alberti</td>\n",
       "      <td>INDEC</td>\n",
       "      <td>6021040000</td>\n",
       "      <td>6021040</td>\n",
       "      <td>Pla</td>\n",
       "      <td>60021.0</td>\n",
       "      <td>Alberti</td>\n",
       "      <td>PLA</td>\n",
       "      <td>6</td>\n",
       "      <td>Buenos Aires</td>\n",
       "    </tr>\n",
       "    <tr>\n",
       "      <th>4</th>\n",
       "      <td>Localidad simple</td>\n",
       "      <td>-35.109618</td>\n",
       "      <td>-60.070551</td>\n",
       "      <td>6021.0</td>\n",
       "      <td>Alberti</td>\n",
       "      <td>INDEC</td>\n",
       "      <td>6021050000</td>\n",
       "      <td>6021050</td>\n",
       "      <td>Villa Grisolía</td>\n",
       "      <td>60021.0</td>\n",
       "      <td>Alberti</td>\n",
       "      <td>VILLA GRISOLIA</td>\n",
       "      <td>6</td>\n",
       "      <td>Buenos Aires</td>\n",
       "    </tr>\n",
       "  </tbody>\n",
       "</table>\n",
       "</div>"
      ],
      "text/plain": [
       "                           categoria  centroide_lat  centroide_lon  \\\n",
       "0                   Localidad simple     -35.033073     -60.280620   \n",
       "1                   Localidad simple     -34.868119     -60.393971   \n",
       "2  Componente de localidad compuesta     -35.068014     -60.402597   \n",
       "3                   Localidad simple     -35.124382     -60.220061   \n",
       "4                   Localidad simple     -35.109618     -60.070551   \n",
       "\n",
       "   departamento_id departamento_nombre fuente          id  \\\n",
       "0           6021.0             Alberti  INDEC  6021010000   \n",
       "1           6021.0             Alberti  INDEC  6021020000   \n",
       "2           6021.0             Alberti  INDEC  6021030000   \n",
       "3           6021.0             Alberti  INDEC  6021040000   \n",
       "4           6021.0             Alberti  INDEC  6021050000   \n",
       "\n",
       "   localidad_censal_id localidad_censal_nombre  municipio_id municipio_nombre  \\\n",
       "0              6021010                 Alberti       60021.0          Alberti   \n",
       "1              6021020           Coronel Seguí       60021.0          Alberti   \n",
       "2              6021030                 Mechita       60021.0          Alberti   \n",
       "3              6021040                     Pla       60021.0          Alberti   \n",
       "4              6021050          Villa Grisolía       60021.0          Alberti   \n",
       "\n",
       "           nombre  provincia_id provincia_nombre  \n",
       "0         ALBERTI             6     Buenos Aires  \n",
       "1   CORONEL SEGUI             6     Buenos Aires  \n",
       "2         MECHITA             6     Buenos Aires  \n",
       "3             PLA             6     Buenos Aires  \n",
       "4  VILLA GRISOLIA             6     Buenos Aires  "
      ]
     },
     "execution_count": 19,
     "metadata": {},
     "output_type": "execute_result"
    }
   ],
   "source": [
    "# Dataset localidad\n",
    "\n",
    "localidad = pd.read_csv('Datasets/localidades.csv', delimiter = ',',encoding = \"utf-8\")\n",
    "localidad.head(5)"
   ]
  },
  {
   "cell_type": "code",
   "execution_count": 20,
   "metadata": {},
   "outputs": [
    {
     "name": "stdout",
     "output_type": "stream",
     "text": [
      "<class 'pandas.core.frame.DataFrame'>\n",
      "RangeIndex: 4142 entries, 0 to 4141\n",
      "Data columns (total 14 columns):\n",
      " #   Column                   Non-Null Count  Dtype  \n",
      "---  ------                   --------------  -----  \n",
      " 0   categoria                4142 non-null   object \n",
      " 1   centroide_lat            4142 non-null   float64\n",
      " 2   centroide_lon            4142 non-null   float64\n",
      " 3   departamento_id          4141 non-null   float64\n",
      " 4   departamento_nombre      4141 non-null   object \n",
      " 5   fuente                   4142 non-null   object \n",
      " 6   id                       4142 non-null   int64  \n",
      " 7   localidad_censal_id      4142 non-null   int64  \n",
      " 8   localidad_censal_nombre  4142 non-null   object \n",
      " 9   municipio_id             3599 non-null   float64\n",
      " 10  municipio_nombre         3648 non-null   object \n",
      " 11  nombre                   4142 non-null   object \n",
      " 12  provincia_id             4142 non-null   int64  \n",
      " 13  provincia_nombre         4142 non-null   object \n",
      "dtypes: float64(4), int64(3), object(7)\n",
      "memory usage: 453.2+ KB\n"
     ]
    }
   ],
   "source": [
    "#visualizamos la informacion del dataframe localidad\n",
    "localidad.info()"
   ]
  },
  {
   "cell_type": "code",
   "execution_count": 21,
   "metadata": {},
   "outputs": [
    {
     "data": {
      "text/html": [
       "<div>\n",
       "<style scoped>\n",
       "    .dataframe tbody tr th:only-of-type {\n",
       "        vertical-align: middle;\n",
       "    }\n",
       "\n",
       "    .dataframe tbody tr th {\n",
       "        vertical-align: top;\n",
       "    }\n",
       "\n",
       "    .dataframe thead th {\n",
       "        text-align: right;\n",
       "    }\n",
       "</style>\n",
       "<table border=\"1\" class=\"dataframe\">\n",
       "  <thead>\n",
       "    <tr style=\"text-align: right;\">\n",
       "      <th></th>\n",
       "      <th>IDProveedor</th>\n",
       "      <th>Nombre</th>\n",
       "      <th>Address</th>\n",
       "      <th>City</th>\n",
       "      <th>State</th>\n",
       "      <th>Country</th>\n",
       "      <th>departamen</th>\n",
       "    </tr>\n",
       "  </thead>\n",
       "  <tbody>\n",
       "    <tr>\n",
       "      <th>0</th>\n",
       "      <td>1</td>\n",
       "      <td>NaN</td>\n",
       "      <td>BEREGUESTEIN 36</td>\n",
       "      <td>AVELLANEDA</td>\n",
       "      <td>BUENOS AIRES</td>\n",
       "      <td>ARGENTINA</td>\n",
       "      <td>AVELLANEDA</td>\n",
       "    </tr>\n",
       "    <tr>\n",
       "      <th>1</th>\n",
       "      <td>2</td>\n",
       "      <td>San Cirano</td>\n",
       "      <td>ALBERTI 965</td>\n",
       "      <td>CORONEL BRANDSEN</td>\n",
       "      <td>BUENOS AIRES</td>\n",
       "      <td>ARGENTINA</td>\n",
       "      <td>BRANDSEN</td>\n",
       "    </tr>\n",
       "    <tr>\n",
       "      <th>2</th>\n",
       "      <td>3</td>\n",
       "      <td>Bell S.A.</td>\n",
       "      <td>MORENO 331</td>\n",
       "      <td>CAMPANA</td>\n",
       "      <td>BUENOS AIRES</td>\n",
       "      <td>ARGENTINA</td>\n",
       "      <td>CAMPANA</td>\n",
       "    </tr>\n",
       "    <tr>\n",
       "      <th>3</th>\n",
       "      <td>4</td>\n",
       "      <td>Rivero Insumos</td>\n",
       "      <td>PTE. PERON 3872</td>\n",
       "      <td>VALENTIN ALSINA</td>\n",
       "      <td>BUENOS AIRES</td>\n",
       "      <td>ARGENTINA</td>\n",
       "      <td>LANUS</td>\n",
       "    </tr>\n",
       "    <tr>\n",
       "      <th>4</th>\n",
       "      <td>5</td>\n",
       "      <td>Laprida Computacion</td>\n",
       "      <td>AVDA. PEDRO PEREYRA 1339</td>\n",
       "      <td>LAPRIDA</td>\n",
       "      <td>BUENOS AIRES</td>\n",
       "      <td>ARGENTINA</td>\n",
       "      <td>LAPRIDA</td>\n",
       "    </tr>\n",
       "  </tbody>\n",
       "</table>\n",
       "</div>"
      ],
      "text/plain": [
       "   IDProveedor               Nombre                   Address  \\\n",
       "0            1                  NaN           BEREGUESTEIN 36   \n",
       "1            2           San Cirano               ALBERTI 965   \n",
       "2            3            Bell S.A.                MORENO 331   \n",
       "3            4       Rivero Insumos           PTE. PERON 3872   \n",
       "4            5  Laprida Computacion  AVDA. PEDRO PEREYRA 1339   \n",
       "\n",
       "               City         State    Country  departamen  \n",
       "0        AVELLANEDA  BUENOS AIRES  ARGENTINA  AVELLANEDA  \n",
       "1  CORONEL BRANDSEN  BUENOS AIRES  ARGENTINA    BRANDSEN  \n",
       "2           CAMPANA  BUENOS AIRES  ARGENTINA     CAMPANA  \n",
       "3   VALENTIN ALSINA  BUENOS AIRES  ARGENTINA       LANUS  \n",
       "4           LAPRIDA  BUENOS AIRES  ARGENTINA     LAPRIDA  "
      ]
     },
     "execution_count": 21,
     "metadata": {},
     "output_type": "execute_result"
    }
   ],
   "source": [
    "# Dataset proveedor\n",
    "\n",
    "proveedor = pd.read_csv('Datasets/proveedores.csv', delimiter = ',',encoding = \"ansi\")\n",
    "proveedor.head(5)"
   ]
  },
  {
   "cell_type": "code",
   "execution_count": 22,
   "metadata": {},
   "outputs": [
    {
     "name": "stdout",
     "output_type": "stream",
     "text": [
      "<class 'pandas.core.frame.DataFrame'>\n",
      "RangeIndex: 14 entries, 0 to 13\n",
      "Data columns (total 7 columns):\n",
      " #   Column       Non-Null Count  Dtype \n",
      "---  ------       --------------  ----- \n",
      " 0   IDProveedor  14 non-null     int64 \n",
      " 1   Nombre       12 non-null     object\n",
      " 2   Address      14 non-null     object\n",
      " 3   City         14 non-null     object\n",
      " 4   State        14 non-null     object\n",
      " 5   Country      14 non-null     object\n",
      " 6   departamen   14 non-null     object\n",
      "dtypes: int64(1), object(6)\n",
      "memory usage: 912.0+ bytes\n"
     ]
    }
   ],
   "source": [
    "#visualizamos la informacion del dataframe proveedor\n",
    "proveedor.info()"
   ]
  },
  {
   "cell_type": "code",
   "execution_count": 23,
   "metadata": {},
   "outputs": [
    {
     "data": {
      "text/html": [
       "<div>\n",
       "<style scoped>\n",
       "    .dataframe tbody tr th:only-of-type {\n",
       "        vertical-align: middle;\n",
       "    }\n",
       "\n",
       "    .dataframe tbody tr th {\n",
       "        vertical-align: top;\n",
       "    }\n",
       "\n",
       "    .dataframe thead th {\n",
       "        text-align: right;\n",
       "    }\n",
       "</style>\n",
       "<table border=\"1\" class=\"dataframe\">\n",
       "  <thead>\n",
       "    <tr style=\"text-align: right;\">\n",
       "      <th></th>\n",
       "      <th>ID</th>\n",
       "      <th>Sucursal</th>\n",
       "      <th>Direccion</th>\n",
       "      <th>Localidad</th>\n",
       "      <th>Provincia</th>\n",
       "      <th>Latitud</th>\n",
       "      <th>Longitud</th>\n",
       "    </tr>\n",
       "  </thead>\n",
       "  <tbody>\n",
       "    <tr>\n",
       "      <th>0</th>\n",
       "      <td>1</td>\n",
       "      <td>Cabildo</td>\n",
       "      <td>Av. Cabildo 1342</td>\n",
       "      <td>Ciudad de Buenos Aires</td>\n",
       "      <td>Ciudad de Buenos Aires</td>\n",
       "      <td>-34,5678060</td>\n",
       "      <td>-58,4495720</td>\n",
       "    </tr>\n",
       "    <tr>\n",
       "      <th>1</th>\n",
       "      <td>2</td>\n",
       "      <td>Palermo 1</td>\n",
       "      <td>Guatemala 5701</td>\n",
       "      <td>CABA</td>\n",
       "      <td>CABA</td>\n",
       "      <td>-34,5790350</td>\n",
       "      <td>-58,4335660</td>\n",
       "    </tr>\n",
       "    <tr>\n",
       "      <th>2</th>\n",
       "      <td>3</td>\n",
       "      <td>Palermo 2</td>\n",
       "      <td>Gral. Lucio Norberto Mansilla 2668</td>\n",
       "      <td>CABA</td>\n",
       "      <td>C deBuenos Aires</td>\n",
       "      <td>-34,5959660</td>\n",
       "      <td>-58,4051500</td>\n",
       "    </tr>\n",
       "    <tr>\n",
       "      <th>3</th>\n",
       "      <td>4</td>\n",
       "      <td>Corrientes</td>\n",
       "      <td>Av. Corrientes 2352</td>\n",
       "      <td>Ciudad de Buenos Aires</td>\n",
       "      <td>Bs As</td>\n",
       "      <td>-34,6046850</td>\n",
       "      <td>-58,3987640</td>\n",
       "    </tr>\n",
       "    <tr>\n",
       "      <th>4</th>\n",
       "      <td>5</td>\n",
       "      <td>Almagro</td>\n",
       "      <td>Venezuela 3650</td>\n",
       "      <td>Capital</td>\n",
       "      <td>Bs.As.</td>\n",
       "      <td>-34,6173080</td>\n",
       "      <td>-58,4161790</td>\n",
       "    </tr>\n",
       "  </tbody>\n",
       "</table>\n",
       "</div>"
      ],
      "text/plain": [
       "   ID    Sucursal                           Direccion               Localidad  \\\n",
       "0   1     Cabildo                    Av. Cabildo 1342  Ciudad de Buenos Aires   \n",
       "1   2   Palermo 1                      Guatemala 5701                    CABA   \n",
       "2   3   Palermo 2  Gral. Lucio Norberto Mansilla 2668                    CABA   \n",
       "3   4  Corrientes                 Av. Corrientes 2352  Ciudad de Buenos Aires   \n",
       "4   5     Almagro                      Venezuela 3650                 Capital   \n",
       "\n",
       "                Provincia      Latitud     Longitud  \n",
       "0  Ciudad de Buenos Aires  -34,5678060  -58,4495720  \n",
       "1                    CABA  -34,5790350  -58,4335660  \n",
       "2        C deBuenos Aires  -34,5959660  -58,4051500  \n",
       "3                   Bs As  -34,6046850  -58,3987640  \n",
       "4                 Bs.As.   -34,6173080  -58,4161790  "
      ]
     },
     "execution_count": 23,
     "metadata": {},
     "output_type": "execute_result"
    }
   ],
   "source": [
    "# Dataset sucursal\n",
    "\n",
    "sucursal = pd.read_csv('Datasets/sucursales.csv', delimiter = ';',encoding = \"utf-8\")\n",
    "sucursal.head(5)"
   ]
  },
  {
   "cell_type": "code",
   "execution_count": 24,
   "metadata": {},
   "outputs": [
    {
     "name": "stdout",
     "output_type": "stream",
     "text": [
      "<class 'pandas.core.frame.DataFrame'>\n",
      "RangeIndex: 31 entries, 0 to 30\n",
      "Data columns (total 7 columns):\n",
      " #   Column     Non-Null Count  Dtype \n",
      "---  ------     --------------  ----- \n",
      " 0   ID         31 non-null     int64 \n",
      " 1   Sucursal   31 non-null     object\n",
      " 2   Direccion  31 non-null     object\n",
      " 3   Localidad  31 non-null     object\n",
      " 4   Provincia  31 non-null     object\n",
      " 5   Latitud    31 non-null     object\n",
      " 6   Longitud   31 non-null     object\n",
      "dtypes: int64(1), object(6)\n",
      "memory usage: 1.8+ KB\n"
     ]
    }
   ],
   "source": [
    "#visualizamos la informacion del dataframe sucursal\n",
    "sucursal.info()"
   ]
  },
  {
   "cell_type": "code",
   "execution_count": 25,
   "metadata": {},
   "outputs": [
    {
     "data": {
      "text/html": [
       "<div>\n",
       "<style scoped>\n",
       "    .dataframe tbody tr th:only-of-type {\n",
       "        vertical-align: middle;\n",
       "    }\n",
       "\n",
       "    .dataframe tbody tr th {\n",
       "        vertical-align: top;\n",
       "    }\n",
       "\n",
       "    .dataframe thead th {\n",
       "        text-align: right;\n",
       "    }\n",
       "</style>\n",
       "<table border=\"1\" class=\"dataframe\">\n",
       "  <thead>\n",
       "    <tr style=\"text-align: right;\">\n",
       "      <th></th>\n",
       "      <th>IdVenta</th>\n",
       "      <th>Fecha</th>\n",
       "      <th>Fecha_Entrega</th>\n",
       "      <th>IdCanal</th>\n",
       "      <th>IdCliente</th>\n",
       "      <th>IdSucursal</th>\n",
       "      <th>IdEmpleado</th>\n",
       "      <th>IdProducto</th>\n",
       "      <th>Precio</th>\n",
       "      <th>Cantidad</th>\n",
       "    </tr>\n",
       "  </thead>\n",
       "  <tbody>\n",
       "    <tr>\n",
       "      <th>0</th>\n",
       "      <td>1</td>\n",
       "      <td>2018-03-09</td>\n",
       "      <td>2018-03-17</td>\n",
       "      <td>3</td>\n",
       "      <td>969</td>\n",
       "      <td>13</td>\n",
       "      <td>1674</td>\n",
       "      <td>42817</td>\n",
       "      <td>813.12</td>\n",
       "      <td>2.0</td>\n",
       "    </tr>\n",
       "    <tr>\n",
       "      <th>1</th>\n",
       "      <td>2</td>\n",
       "      <td>2018-12-28</td>\n",
       "      <td>2018-12-29</td>\n",
       "      <td>2</td>\n",
       "      <td>884</td>\n",
       "      <td>13</td>\n",
       "      <td>1674</td>\n",
       "      <td>42795</td>\n",
       "      <td>543.18</td>\n",
       "      <td>3.0</td>\n",
       "    </tr>\n",
       "    <tr>\n",
       "      <th>2</th>\n",
       "      <td>3</td>\n",
       "      <td>2016-03-28</td>\n",
       "      <td>2016-03-31</td>\n",
       "      <td>2</td>\n",
       "      <td>1722</td>\n",
       "      <td>13</td>\n",
       "      <td>1674</td>\n",
       "      <td>42837</td>\n",
       "      <td>430.32</td>\n",
       "      <td>1.0</td>\n",
       "    </tr>\n",
       "    <tr>\n",
       "      <th>3</th>\n",
       "      <td>4</td>\n",
       "      <td>2017-10-23</td>\n",
       "      <td>2017-10-24</td>\n",
       "      <td>3</td>\n",
       "      <td>2876</td>\n",
       "      <td>13</td>\n",
       "      <td>1674</td>\n",
       "      <td>42834</td>\n",
       "      <td>818.84</td>\n",
       "      <td>2.0</td>\n",
       "    </tr>\n",
       "    <tr>\n",
       "      <th>4</th>\n",
       "      <td>5</td>\n",
       "      <td>2017-11-22</td>\n",
       "      <td>2017-11-25</td>\n",
       "      <td>2</td>\n",
       "      <td>678</td>\n",
       "      <td>13</td>\n",
       "      <td>1674</td>\n",
       "      <td>42825</td>\n",
       "      <td>554.18</td>\n",
       "      <td>3.0</td>\n",
       "    </tr>\n",
       "  </tbody>\n",
       "</table>\n",
       "</div>"
      ],
      "text/plain": [
       "   IdVenta       Fecha Fecha_Entrega  IdCanal  IdCliente  IdSucursal  \\\n",
       "0        1  2018-03-09    2018-03-17        3        969          13   \n",
       "1        2  2018-12-28    2018-12-29        2        884          13   \n",
       "2        3  2016-03-28    2016-03-31        2       1722          13   \n",
       "3        4  2017-10-23    2017-10-24        3       2876          13   \n",
       "4        5  2017-11-22    2017-11-25        2        678          13   \n",
       "\n",
       "   IdEmpleado  IdProducto  Precio  Cantidad  \n",
       "0        1674       42817  813.12       2.0  \n",
       "1        1674       42795  543.18       3.0  \n",
       "2        1674       42837  430.32       1.0  \n",
       "3        1674       42834  818.84       2.0  \n",
       "4        1674       42825  554.18       3.0  "
      ]
     },
     "execution_count": 25,
     "metadata": {},
     "output_type": "execute_result"
    }
   ],
   "source": [
    "# Dataset venta\n",
    "\n",
    "venta = pd.read_csv('Datasets/venta.csv', delimiter = ',',encoding = \"utf-8\")\n",
    "venta.head(5)"
   ]
  },
  {
   "cell_type": "code",
   "execution_count": 26,
   "metadata": {},
   "outputs": [
    {
     "name": "stdout",
     "output_type": "stream",
     "text": [
      "<class 'pandas.core.frame.DataFrame'>\n",
      "RangeIndex: 46645 entries, 0 to 46644\n",
      "Data columns (total 10 columns):\n",
      " #   Column         Non-Null Count  Dtype  \n",
      "---  ------         --------------  -----  \n",
      " 0   IdVenta        46645 non-null  int64  \n",
      " 1   Fecha          46645 non-null  object \n",
      " 2   Fecha_Entrega  46645 non-null  object \n",
      " 3   IdCanal        46645 non-null  int64  \n",
      " 4   IdCliente      46645 non-null  int64  \n",
      " 5   IdSucursal     46645 non-null  int64  \n",
      " 6   IdEmpleado     46645 non-null  int64  \n",
      " 7   IdProducto     46645 non-null  int64  \n",
      " 8   Precio         45721 non-null  float64\n",
      " 9   Cantidad       45753 non-null  float64\n",
      "dtypes: float64(2), int64(6), object(2)\n",
      "memory usage: 3.6+ MB\n"
     ]
    }
   ],
   "source": [
    "#visualizamos la informacion del dataframe compra\n",
    "venta.info()"
   ]
  },
  {
   "cell_type": "code",
   "execution_count": 27,
   "metadata": {},
   "outputs": [
    {
     "data": {
      "application/vnd.jupyter.widget-view+json": {
       "model_id": "664c368c1cf6481398dfe153f381dfc4",
       "version_major": 2,
       "version_minor": 0
      },
      "text/plain": [
       "Summarize dataset:   0%|          | 0/5 [00:00<?, ?it/s]"
      ]
     },
     "metadata": {},
     "output_type": "display_data"
    },
    {
     "data": {
      "application/vnd.jupyter.widget-view+json": {
       "model_id": "ae23c719395b46a1a822b7737ea97303",
       "version_major": 2,
       "version_minor": 0
      },
      "text/plain": [
       "Generate report structure:   0%|          | 0/1 [00:00<?, ?it/s]"
      ]
     },
     "metadata": {},
     "output_type": "display_data"
    },
    {
     "data": {
      "application/vnd.jupyter.widget-view+json": {
       "model_id": "c00c35c9f0e94aca856cf74a1c759e11",
       "version_major": 2,
       "version_minor": 0
      },
      "text/plain": [
       "Render HTML:   0%|          | 0/1 [00:00<?, ?it/s]"
      ]
     },
     "metadata": {},
     "output_type": "display_data"
    },
    {
     "data": {
      "application/vnd.jupyter.widget-view+json": {
       "model_id": "dfb7b016ffca4e4c959e824a3f7e6d88",
       "version_major": 2,
       "version_minor": 0
      },
      "text/plain": [
       "Export report to file:   0%|          | 0/1 [00:00<?, ?it/s]"
      ]
     },
     "metadata": {},
     "output_type": "display_data"
    }
   ],
   "source": [
    "# Elaborando Reporte inicial  Cliente\n",
    "prof_Cliente = ProfileReport(cliente)\n",
    "prof_Cliente.to_file(output_file='Profile_Inicial_Cliente.html')"
   ]
  },
  {
   "cell_type": "code",
   "execution_count": 29,
   "metadata": {},
   "outputs": [
    {
     "data": {
      "application/vnd.jupyter.widget-view+json": {
       "model_id": "4e6224c231e64c4c8a06428592de0366",
       "version_major": 2,
       "version_minor": 0
      },
      "text/plain": [
       "Summarize dataset:   0%|          | 0/5 [00:00<?, ?it/s]"
      ]
     },
     "metadata": {},
     "output_type": "display_data"
    },
    {
     "data": {
      "application/vnd.jupyter.widget-view+json": {
       "model_id": "e7252f2a66d74fe88b31287d29fd57d3",
       "version_major": 2,
       "version_minor": 0
      },
      "text/plain": [
       "Generate report structure:   0%|          | 0/1 [00:00<?, ?it/s]"
      ]
     },
     "metadata": {},
     "output_type": "display_data"
    },
    {
     "data": {
      "application/vnd.jupyter.widget-view+json": {
       "model_id": "ad29545c242048429a59501e2eafa564",
       "version_major": 2,
       "version_minor": 0
      },
      "text/plain": [
       "Render HTML:   0%|          | 0/1 [00:00<?, ?it/s]"
      ]
     },
     "metadata": {},
     "output_type": "display_data"
    },
    {
     "data": {
      "application/vnd.jupyter.widget-view+json": {
       "model_id": "395981ab78b2469a9e5b1fe43681fff2",
       "version_major": 2,
       "version_minor": 0
      },
      "text/plain": [
       "Export report to file:   0%|          | 0/1 [00:00<?, ?it/s]"
      ]
     },
     "metadata": {},
     "output_type": "display_data"
    }
   ],
   "source": [
    "# Elaborando Reporte inicial  Compra\n",
    "prof_Compra = ProfileReport(compra)\n",
    "prof_Compra.to_file(output_file='Profile_Inicial_Compra.html')"
   ]
  },
  {
   "cell_type": "code",
   "execution_count": 30,
   "metadata": {},
   "outputs": [
    {
     "data": {
      "application/vnd.jupyter.widget-view+json": {
       "model_id": "fe994d7b572c498186ca4a7fe02313f6",
       "version_major": 2,
       "version_minor": 0
      },
      "text/plain": [
       "Summarize dataset:   0%|          | 0/5 [00:00<?, ?it/s]"
      ]
     },
     "metadata": {},
     "output_type": "display_data"
    },
    {
     "data": {
      "application/vnd.jupyter.widget-view+json": {
       "model_id": "9bc176525d754a0386e373bf0486fbac",
       "version_major": 2,
       "version_minor": 0
      },
      "text/plain": [
       "Generate report structure:   0%|          | 0/1 [00:00<?, ?it/s]"
      ]
     },
     "metadata": {},
     "output_type": "display_data"
    },
    {
     "data": {
      "application/vnd.jupyter.widget-view+json": {
       "model_id": "44ca108ed84e4355aee7a392c6d32b2e",
       "version_major": 2,
       "version_minor": 0
      },
      "text/plain": [
       "Render HTML:   0%|          | 0/1 [00:00<?, ?it/s]"
      ]
     },
     "metadata": {},
     "output_type": "display_data"
    },
    {
     "data": {
      "application/vnd.jupyter.widget-view+json": {
       "model_id": "ee202ac82fe04c6f8f75ce3b9ff319c9",
       "version_major": 2,
       "version_minor": 0
      },
      "text/plain": [
       "Export report to file:   0%|          | 0/1 [00:00<?, ?it/s]"
      ]
     },
     "metadata": {},
     "output_type": "display_data"
    }
   ],
   "source": [
    "# Elaborando Reporte inicial  Gasto\n",
    "prof_Gasto = ProfileReport(gasto)\n",
    "prof_Gasto.to_file(output_file='Profile_Inicial_Gasto.html')"
   ]
  },
  {
   "cell_type": "code",
   "execution_count": 31,
   "metadata": {},
   "outputs": [
    {
     "data": {
      "application/vnd.jupyter.widget-view+json": {
       "model_id": "fb209dc64ca94935a549a380faa8ee0e",
       "version_major": 2,
       "version_minor": 0
      },
      "text/plain": [
       "Summarize dataset:   0%|          | 0/5 [00:00<?, ?it/s]"
      ]
     },
     "metadata": {},
     "output_type": "display_data"
    },
    {
     "data": {
      "application/vnd.jupyter.widget-view+json": {
       "model_id": "57707cc710a843f9923a25ed48c18ead",
       "version_major": 2,
       "version_minor": 0
      },
      "text/plain": [
       "Generate report structure:   0%|          | 0/1 [00:00<?, ?it/s]"
      ]
     },
     "metadata": {},
     "output_type": "display_data"
    },
    {
     "data": {
      "application/vnd.jupyter.widget-view+json": {
       "model_id": "4374d9d2c12d48fd826f869e36b7c208",
       "version_major": 2,
       "version_minor": 0
      },
      "text/plain": [
       "Render HTML:   0%|          | 0/1 [00:00<?, ?it/s]"
      ]
     },
     "metadata": {},
     "output_type": "display_data"
    },
    {
     "data": {
      "application/vnd.jupyter.widget-view+json": {
       "model_id": "690fc88901a74d73aa9988c7dc37e4e8",
       "version_major": 2,
       "version_minor": 0
      },
      "text/plain": [
       "Export report to file:   0%|          | 0/1 [00:00<?, ?it/s]"
      ]
     },
     "metadata": {},
     "output_type": "display_data"
    }
   ],
   "source": [
    "# Elaborando Reporte inicial  Localidad\n",
    "prof_Localidad = ProfileReport(localidad)\n",
    "prof_Localidad.to_file(output_file='Profile_Inicial_Localidad.html')"
   ]
  },
  {
   "cell_type": "code",
   "execution_count": 32,
   "metadata": {},
   "outputs": [
    {
     "data": {
      "application/vnd.jupyter.widget-view+json": {
       "model_id": "e61c88fdf18f46438558c9528c944e1b",
       "version_major": 2,
       "version_minor": 0
      },
      "text/plain": [
       "Summarize dataset:   0%|          | 0/5 [00:00<?, ?it/s]"
      ]
     },
     "metadata": {},
     "output_type": "display_data"
    },
    {
     "data": {
      "application/vnd.jupyter.widget-view+json": {
       "model_id": "662947456e0b4164b680e18c931d9ca8",
       "version_major": 2,
       "version_minor": 0
      },
      "text/plain": [
       "Generate report structure:   0%|          | 0/1 [00:00<?, ?it/s]"
      ]
     },
     "metadata": {},
     "output_type": "display_data"
    },
    {
     "data": {
      "application/vnd.jupyter.widget-view+json": {
       "model_id": "eed7aa346b8243f7ba17a1e578b13d12",
       "version_major": 2,
       "version_minor": 0
      },
      "text/plain": [
       "Render HTML:   0%|          | 0/1 [00:00<?, ?it/s]"
      ]
     },
     "metadata": {},
     "output_type": "display_data"
    },
    {
     "data": {
      "application/vnd.jupyter.widget-view+json": {
       "model_id": "88027ffa6426498ebfd8d7051d8fba73",
       "version_major": 2,
       "version_minor": 0
      },
      "text/plain": [
       "Export report to file:   0%|          | 0/1 [00:00<?, ?it/s]"
      ]
     },
     "metadata": {},
     "output_type": "display_data"
    }
   ],
   "source": [
    "# Elaborando Reporte inicial  Proveedor\n",
    "prof_Proveedor = ProfileReport(proveedor)\n",
    "prof_Proveedor.to_file(output_file='Profile_Inicial_Proveedor.html')"
   ]
  },
  {
   "cell_type": "code",
   "execution_count": 33,
   "metadata": {},
   "outputs": [
    {
     "data": {
      "application/vnd.jupyter.widget-view+json": {
       "model_id": "bca80e092a174368bb702b54443d4c0a",
       "version_major": 2,
       "version_minor": 0
      },
      "text/plain": [
       "Summarize dataset:   0%|          | 0/5 [00:00<?, ?it/s]"
      ]
     },
     "metadata": {},
     "output_type": "display_data"
    },
    {
     "data": {
      "application/vnd.jupyter.widget-view+json": {
       "model_id": "620c69f97fcd4d75b38ce0d701e5d821",
       "version_major": 2,
       "version_minor": 0
      },
      "text/plain": [
       "Generate report structure:   0%|          | 0/1 [00:00<?, ?it/s]"
      ]
     },
     "metadata": {},
     "output_type": "display_data"
    },
    {
     "data": {
      "application/vnd.jupyter.widget-view+json": {
       "model_id": "6f74d238499a421eaf5e8954b9fa2cd2",
       "version_major": 2,
       "version_minor": 0
      },
      "text/plain": [
       "Render HTML:   0%|          | 0/1 [00:00<?, ?it/s]"
      ]
     },
     "metadata": {},
     "output_type": "display_data"
    },
    {
     "data": {
      "application/vnd.jupyter.widget-view+json": {
       "model_id": "d6a5406285e4463b820e0b355c5bedcf",
       "version_major": 2,
       "version_minor": 0
      },
      "text/plain": [
       "Export report to file:   0%|          | 0/1 [00:00<?, ?it/s]"
      ]
     },
     "metadata": {},
     "output_type": "display_data"
    }
   ],
   "source": [
    "# Elaborando Reporte inicial  Sucursal\n",
    "prof_Sucursal = ProfileReport(sucursal)\n",
    "prof_Sucursal.to_file(output_file='Profile_Inicial_Sucursal.html')"
   ]
  },
  {
   "cell_type": "code",
   "execution_count": 34,
   "metadata": {},
   "outputs": [
    {
     "data": {
      "application/vnd.jupyter.widget-view+json": {
       "model_id": "630a062bc1984c6b9a73ac6f921a6d08",
       "version_major": 2,
       "version_minor": 0
      },
      "text/plain": [
       "Summarize dataset:   0%|          | 0/5 [00:00<?, ?it/s]"
      ]
     },
     "metadata": {},
     "output_type": "display_data"
    },
    {
     "data": {
      "application/vnd.jupyter.widget-view+json": {
       "model_id": "3274d77e61aa4c918a10b506f25e05f8",
       "version_major": 2,
       "version_minor": 0
      },
      "text/plain": [
       "Generate report structure:   0%|          | 0/1 [00:00<?, ?it/s]"
      ]
     },
     "metadata": {},
     "output_type": "display_data"
    },
    {
     "data": {
      "application/vnd.jupyter.widget-view+json": {
       "model_id": "519b3801c8d04193ab09e5a512360ec0",
       "version_major": 2,
       "version_minor": 0
      },
      "text/plain": [
       "Render HTML:   0%|          | 0/1 [00:00<?, ?it/s]"
      ]
     },
     "metadata": {},
     "output_type": "display_data"
    },
    {
     "data": {
      "application/vnd.jupyter.widget-view+json": {
       "model_id": "244efdb005c04cabb4bc000b712f8625",
       "version_major": 2,
       "version_minor": 0
      },
      "text/plain": [
       "Export report to file:   0%|          | 0/1 [00:00<?, ?it/s]"
      ]
     },
     "metadata": {},
     "output_type": "display_data"
    }
   ],
   "source": [
    "# Elaborando Reporte inicial Venta\n",
    "prof_Venta = ProfileReport(venta)\n",
    "prof_Venta.to_file(output_file='Profile_Inicial_Venta.html')"
   ]
  },
  {
   "cell_type": "code",
   "execution_count": 28,
   "metadata": {},
   "outputs": [],
   "source": [
    "def analisis_ds(df):\n",
    "    for column in df:\n",
    "        \n",
    "        if df[column].dtype == 'O':    \n",
    "            valores_faltantes = round((df[column].isnull().sum() * 100) / len(df),2 )     ## Para calcular porcentaje de valores faltamtes\n",
    "            sin_errores = round(100 - valores_faltantes,2)                                ## Para calcular porcentaje de valores sin error\n",
    "            outliers = 0\n",
    "        else:\n",
    "            min = df[column].mean() - 3*df[column].std()          ## valor minimo para calcular el outlier\n",
    "            max = df[column].mean() + 3*df[column].std()          ## valor máximo para calcular el outlier\n",
    "            #Se usara la regla de 3 sigma\n",
    "            outliers =  round((((len(df[column][df[column] < min]) + len(df[column][df[column] > max]))) * 100) / len(df),2)   \n",
    "            valores_faltantes = round((df[column].isnull().sum() * 100) / len(df),2)     ## CALCULO DE VALORES FALTANTES Y SIN ERROR\n",
    "            sin_errores = round(100 - valores_faltantes - outliers,2)\n",
    "\n",
    "        lista = [outliers,valores_faltantes,sin_errores]    \n",
    "\n",
    "        ##   Graficando \n",
    "        plt.figure(figsize=(10,10))\n",
    "        plt.title('Calidad de datos de '+column)\n",
    "        graph = plt.bar(['outliers','valores_faltantes','sin_errores'],lista)\n",
    "        i = 0\n",
    "        for p in graph:           \n",
    "            width = p.get_width()\n",
    "            height = p.get_height()\n",
    "            x, y = p.get_xy()\n",
    "            plt.text(x+width/2,\n",
    "                y+height*1.01,\n",
    "                str(lista[i])+'%',\n",
    "                ha='center',\n",
    "                weight='bold')\n",
    "            i+=1\n",
    "        \n",
    "        plt.show()\n",
    "        \n",
    "        print('---------------------------------------------------')\n",
    "        print('El porcentaje de valores faltantes en la columna',column,'es :',valores_faltantes,'%')\n",
    "        print('El porcentaje de outliers en la columna',column,'es :',outliers,'%')\n",
    "        print('El porcentaje de valores sin error en la columna',column,'es :',sin_errores,'%')\n",
    "        print('---------------------------------------------------')"
   ]
  }
 ],
 "metadata": {
  "kernelspec": {
   "display_name": "Python 3.10.4 64-bit",
   "language": "python",
   "name": "python3"
  },
  "language_info": {
   "codemirror_mode": {
    "name": "ipython",
    "version": 3
   },
   "file_extension": ".py",
   "mimetype": "text/x-python",
   "name": "python",
   "nbconvert_exporter": "python",
   "pygments_lexer": "ipython3",
   "version": "3.10.4"
  },
  "orig_nbformat": 4,
  "vscode": {
   "interpreter": {
    "hash": "0924f6cd1d5c63a1a3921f600017fca30abae44e7906b688aa257ce50eaba5b6"
   }
  }
 },
 "nbformat": 4,
 "nbformat_minor": 2
}
