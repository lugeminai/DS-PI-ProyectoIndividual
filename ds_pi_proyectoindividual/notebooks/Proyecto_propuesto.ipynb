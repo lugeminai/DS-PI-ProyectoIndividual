{
 "cells": [
  {
   "cell_type": "code",
   "execution_count": 48,
   "metadata": {},
   "outputs": [],
   "source": [
    "# se cargan las liberias a utilizar\n",
    "\n",
    "import pandas as pd\n",
    "import numpy as np\n",
    "import seaborn as sns\n",
    "import matplotlib.pyplot as plt\n",
    "sns.set()\n",
    "from pandas_profiling import ProfileReport\n",
    "from pathlib import Path"
   ]
  },
  {
   "cell_type": "code",
   "execution_count": 54,
   "metadata": {},
   "outputs": [],
   "source": [
    "ds_path= Path(\"../Datasets\")       #Nombre de la carpeta donde se encuentran los archivos de los Datasets\n",
    "\n",
    "def leerCSV_y_concatClient_o_Sucur(csv):\n",
    "    df_list= []\n",
    "    for file in ds_path.glob(f'{csv}*.csv'):\n",
    "        print(file)\n",
    "        df = pd.read_csv(file, delimiter = ';', decimal=\",\", encoding = \"utf-8\")\n",
    "        df_list.append(df)\n",
    "    return pd.concat((df_list), ignore_index=True, sort=False)\n",
    "\n",
    "def leerCSV_y_concat(csv):\n",
    "    df_list= []\n",
    "    for file in ds_path.glob(f'{csv}*.csv'):\n",
    "        print(file)\n",
    "        df = pd.read_csv(file, delimiter = ',',  encoding = \"utf-8\")\n",
    "        df_list.append(df)\n",
    "    return pd.concat((df_list), ignore_index=True, sort=False)\n",
    "\n",
    "def leerCSV_y_concatProveedor(csv):\n",
    "    df_list= []\n",
    "    for file in ds_path.glob(f'{csv}*.csv'):\n",
    "        print(file)\n",
    "        df = pd.read_csv(file, delimiter = ',',  encoding = \"latin-1\")\n",
    "        df_list.append(df)\n",
    "    return pd.concat((df_list), ignore_index=True, sort=False)\n",
    "\n",
    "def leerCSV_y_concatCanalVenta(csv):\n",
    "    df_list= []\n",
    "    for file in ds_path.glob(f'{csv}*.xlsx'):\n",
    "        print(file)\n",
    "        df = pd.read_excel(file)\n",
    "        df_list.append(df)\n",
    "    return pd.concat((df_list), ignore_index=True, sort=False)\n"
   ]
  },
  {
   "cell_type": "code",
   "execution_count": 55,
   "metadata": {},
   "outputs": [
    {
     "name": "stdout",
     "output_type": "stream",
     "text": [
      "../Datasets/Clientes_Dic2020.csv\n",
      "../Datasets/Clientes.csv\n",
      "../Datasets/Compra.csv\n",
      "../Datasets/Gasto.csv\n",
      "../Datasets/Localidades.csv\n",
      "../Datasets/Proveedores.csv\n",
      "../Datasets/Sucursales.csv\n",
      "../Datasets/Venta.csv\n",
      "../Datasets/Venta_Dic2020.csv\n",
      "../Datasets/TiposDeGasto.csv\n",
      "../Datasets/CanalDeVenta.xlsx\n"
     ]
    }
   ],
   "source": [
    "# Se genera dataframes a partir de los archivos de la carpeta Datasets\n",
    "df_clientes= leerCSV_y_concatClient_o_Sucur('Clien')\n",
    "df_compra=leerCSV_y_concat('Compr')\n",
    "df_gasto=leerCSV_y_concat('Gasto')\n",
    "df_localidades= leerCSV_y_concat('Local')\n",
    "df_proveedores= leerCSV_y_concatProveedor('Provee')\n",
    "df_sucursales= leerCSV_y_concatClient_o_Sucur('Sucur')\n",
    "df_ventas= leerCSV_y_concat('Vent')\n",
    "df_tipoGasto = leerCSV_y_concat('TiposDeGas')\n",
    "df_canalVenta=leerCSV_y_concatCanalVenta('Canal')\n"
   ]
  },
  {
   "cell_type": "markdown",
   "metadata": {},
   "source": [
    "Visualizando los datasets y la informacion de los mismos"
   ]
  },
  {
   "cell_type": "code",
   "execution_count": 59,
   "metadata": {},
   "outputs": [
    {
     "data": {
      "text/html": [
       "<div>\n",
       "<style scoped>\n",
       "    .dataframe tbody tr th:only-of-type {\n",
       "        vertical-align: middle;\n",
       "    }\n",
       "\n",
       "    .dataframe tbody tr th {\n",
       "        vertical-align: top;\n",
       "    }\n",
       "\n",
       "    .dataframe thead th {\n",
       "        text-align: right;\n",
       "    }\n",
       "</style>\n",
       "<table border=\"1\" class=\"dataframe\">\n",
       "  <thead>\n",
       "    <tr style=\"text-align: right;\">\n",
       "      <th></th>\n",
       "      <th>ID</th>\n",
       "      <th>Provincia</th>\n",
       "      <th>Nombre_y_Apellido</th>\n",
       "      <th>Domicilio</th>\n",
       "      <th>Telefono</th>\n",
       "      <th>Edad</th>\n",
       "      <th>Localidad</th>\n",
       "      <th>X</th>\n",
       "      <th>Y</th>\n",
       "      <th>col10</th>\n",
       "    </tr>\n",
       "  </thead>\n",
       "  <tbody>\n",
       "    <tr>\n",
       "      <th>0</th>\n",
       "      <td>22</td>\n",
       "      <td>Buenos Aires</td>\n",
       "      <td>LUISA ANTONIA SCELZA</td>\n",
       "      <td>AVDA. EVA PERON 2352</td>\n",
       "      <td>4697-7045</td>\n",
       "      <td>30</td>\n",
       "      <td>MORON</td>\n",
       "      <td>-58.631154</td>\n",
       "      <td>-34.674626</td>\n",
       "      <td>NaN</td>\n",
       "    </tr>\n",
       "    <tr>\n",
       "      <th>1</th>\n",
       "      <td>59</td>\n",
       "      <td>Buenos Aires</td>\n",
       "      <td>JUAN SILVA</td>\n",
       "      <td>AV.RIVADAVIA E/ MITRE Y SARMIENTO 373</td>\n",
       "      <td>4257-5719</td>\n",
       "      <td>46</td>\n",
       "      <td>QUILMES</td>\n",
       "      <td>-58.254033</td>\n",
       "      <td>-34.720609</td>\n",
       "      <td>NaN</td>\n",
       "    </tr>\n",
       "    <tr>\n",
       "      <th>2</th>\n",
       "      <td>66</td>\n",
       "      <td>Buenos Aires</td>\n",
       "      <td>JULIO CESAR SILVEIRA</td>\n",
       "      <td>MORENO E/ BRANDSEN Y MATIENZO 932</td>\n",
       "      <td>4257-5728</td>\n",
       "      <td>56</td>\n",
       "      <td>QUILMES</td>\n",
       "      <td>-58.254347</td>\n",
       "      <td>-34.727616</td>\n",
       "      <td>NaN</td>\n",
       "    </tr>\n",
       "    <tr>\n",
       "      <th>3</th>\n",
       "      <td>67</td>\n",
       "      <td>Buenos Aires</td>\n",
       "      <td>JORGE ALEJANDRO SILVEIRA</td>\n",
       "      <td>HUMBERTO PRIMO E/E.ZOLA Y MOZART 887  VILLA LUJAN</td>\n",
       "      <td>4254-1576</td>\n",
       "      <td>20</td>\n",
       "      <td>QUILMES</td>\n",
       "      <td>-58.242736</td>\n",
       "      <td>-34.717788</td>\n",
       "      <td>NaN</td>\n",
       "    </tr>\n",
       "    <tr>\n",
       "      <th>4</th>\n",
       "      <td>76</td>\n",
       "      <td>Buenos Aires</td>\n",
       "      <td>ALEJANDRO PABLO SILVERA</td>\n",
       "      <td>ORTIZ DE OCAMPO E/MITRE Y ALVEAR 335</td>\n",
       "      <td>4253-2092</td>\n",
       "      <td>29</td>\n",
       "      <td>QUILMES</td>\n",
       "      <td>58.249987</td>\n",
       "      <td>34.727147</td>\n",
       "      <td>NaN</td>\n",
       "    </tr>\n",
       "  </tbody>\n",
       "</table>\n",
       "</div>"
      ],
      "text/plain": [
       "   ID     Provincia         Nombre_y_Apellido  \\\n",
       "0  22  Buenos Aires      LUISA ANTONIA SCELZA   \n",
       "1  59  Buenos Aires                JUAN SILVA   \n",
       "2  66  Buenos Aires      JULIO CESAR SILVEIRA   \n",
       "3  67  Buenos Aires  JORGE ALEJANDRO SILVEIRA   \n",
       "4  76  Buenos Aires   ALEJANDRO PABLO SILVERA   \n",
       "\n",
       "                                           Domicilio   Telefono  Edad  \\\n",
       "0                               AVDA. EVA PERON 2352  4697-7045    30   \n",
       "1              AV.RIVADAVIA E/ MITRE Y SARMIENTO 373  4257-5719    46   \n",
       "2                  MORENO E/ BRANDSEN Y MATIENZO 932  4257-5728    56   \n",
       "3  HUMBERTO PRIMO E/E.ZOLA Y MOZART 887  VILLA LUJAN  4254-1576    20   \n",
       "4               ORTIZ DE OCAMPO E/MITRE Y ALVEAR 335  4253-2092    29   \n",
       "\n",
       "  Localidad          X          Y  col10  \n",
       "0     MORON -58.631154 -34.674626    NaN  \n",
       "1   QUILMES -58.254033 -34.720609    NaN  \n",
       "2   QUILMES -58.254347 -34.727616    NaN  \n",
       "3   QUILMES -58.242736 -34.717788    NaN  \n",
       "4   QUILMES  58.249987  34.727147    NaN  "
      ]
     },
     "execution_count": 59,
     "metadata": {},
     "output_type": "execute_result"
    }
   ],
   "source": [
    "# clientes\n",
    "df_clientes.head(5)"
   ]
  },
  {
   "cell_type": "code",
   "execution_count": null,
   "metadata": {},
   "outputs": [],
   "source": []
  },
  {
   "cell_type": "code",
   "execution_count": null,
   "metadata": {},
   "outputs": [],
   "source": []
  },
  {
   "cell_type": "code",
   "execution_count": 16,
   "metadata": {},
   "outputs": [
    {
     "data": {
      "text/html": [
       "<div>\n",
       "<style scoped>\n",
       "    .dataframe tbody tr th:only-of-type {\n",
       "        vertical-align: middle;\n",
       "    }\n",
       "\n",
       "    .dataframe tbody tr th {\n",
       "        vertical-align: top;\n",
       "    }\n",
       "\n",
       "    .dataframe thead th {\n",
       "        text-align: right;\n",
       "    }\n",
       "</style>\n",
       "<table border=\"1\" class=\"dataframe\">\n",
       "  <thead>\n",
       "    <tr style=\"text-align: right;\">\n",
       "      <th></th>\n",
       "      <th>IdTipoGasto</th>\n",
       "      <th>Descripcion</th>\n",
       "      <th>Monto_Aproximado</th>\n",
       "    </tr>\n",
       "  </thead>\n",
       "  <tbody>\n",
       "    <tr>\n",
       "      <th>0</th>\n",
       "      <td>1</td>\n",
       "      <td>Alquiler</td>\n",
       "      <td>1000</td>\n",
       "    </tr>\n",
       "    <tr>\n",
       "      <th>1</th>\n",
       "      <td>2</td>\n",
       "      <td>Servicios</td>\n",
       "      <td>300</td>\n",
       "    </tr>\n",
       "    <tr>\n",
       "      <th>2</th>\n",
       "      <td>3</td>\n",
       "      <td>Impuestos</td>\n",
       "      <td>100</td>\n",
       "    </tr>\n",
       "    <tr>\n",
       "      <th>3</th>\n",
       "      <td>4</td>\n",
       "      <td>Sueldos y Jornales</td>\n",
       "      <td>1000</td>\n",
       "    </tr>\n",
       "  </tbody>\n",
       "</table>\n",
       "</div>"
      ],
      "text/plain": [
       "   IdTipoGasto         Descripcion  Monto_Aproximado\n",
       "0            1            Alquiler              1000\n",
       "1            2           Servicios               300\n",
       "2            3           Impuestos               100\n",
       "3            4  Sueldos y Jornales              1000"
      ]
     },
     "execution_count": 16,
     "metadata": {},
     "output_type": "execute_result"
    }
   ],
   "source": [
    "df_tipoGasto.head()"
   ]
  },
  {
   "cell_type": "code",
   "execution_count": 25,
   "metadata": {},
   "outputs": [
    {
     "data": {
      "application/vnd.jupyter.widget-view+json": {
       "model_id": "eaa576ce7ab64458b9350663284a1aaa",
       "version_major": 2,
       "version_minor": 0
      },
      "text/plain": [
       "Summarize dataset:   0%|          | 0/5 [00:00<?, ?it/s]"
      ]
     },
     "metadata": {},
     "output_type": "display_data"
    },
    {
     "data": {
      "application/vnd.jupyter.widget-view+json": {
       "model_id": "f51718d161394263b234e9fbb228d3af",
       "version_major": 2,
       "version_minor": 0
      },
      "text/plain": [
       "Generate report structure:   0%|          | 0/1 [00:00<?, ?it/s]"
      ]
     },
     "metadata": {},
     "output_type": "display_data"
    },
    {
     "data": {
      "application/vnd.jupyter.widget-view+json": {
       "model_id": "f93f938adf0a41fda0c161e04274985b",
       "version_major": 2,
       "version_minor": 0
      },
      "text/plain": [
       "Render HTML:   0%|          | 0/1 [00:00<?, ?it/s]"
      ]
     },
     "metadata": {},
     "output_type": "display_data"
    },
    {
     "data": {
      "application/vnd.jupyter.widget-view+json": {
       "model_id": "216384e141514dce87a2d19c763301a1",
       "version_major": 2,
       "version_minor": 0
      },
      "text/plain": [
       "Export report to file:   0%|          | 0/1 [00:00<?, ?it/s]"
      ]
     },
     "metadata": {},
     "output_type": "display_data"
    }
   ],
   "source": [
    "# Elaborando Reporte inicial  Cliente\n",
    "prof_Cliente = ProfileReport(df_clientes)\n",
    "prof_Cliente.to_file(output_file='Profile_Inicial_Cliente.html')"
   ]
  },
  {
   "cell_type": "code",
   "execution_count": 26,
   "metadata": {},
   "outputs": [
    {
     "data": {
      "application/vnd.jupyter.widget-view+json": {
       "model_id": "a3b5b13ad34341f99d71f9dd128d2a9f",
       "version_major": 2,
       "version_minor": 0
      },
      "text/plain": [
       "Summarize dataset:   0%|          | 0/5 [00:00<?, ?it/s]"
      ]
     },
     "metadata": {},
     "output_type": "display_data"
    },
    {
     "data": {
      "application/vnd.jupyter.widget-view+json": {
       "model_id": "d711b18848c54f8f915977aa06a13c6d",
       "version_major": 2,
       "version_minor": 0
      },
      "text/plain": [
       "Generate report structure:   0%|          | 0/1 [00:00<?, ?it/s]"
      ]
     },
     "metadata": {},
     "output_type": "display_data"
    },
    {
     "data": {
      "application/vnd.jupyter.widget-view+json": {
       "model_id": "7c03c533f9eb4be5b33afc296d9053bd",
       "version_major": 2,
       "version_minor": 0
      },
      "text/plain": [
       "Render HTML:   0%|          | 0/1 [00:00<?, ?it/s]"
      ]
     },
     "metadata": {},
     "output_type": "display_data"
    },
    {
     "data": {
      "application/vnd.jupyter.widget-view+json": {
       "model_id": "0666bf7041e34ada93da7673067daeab",
       "version_major": 2,
       "version_minor": 0
      },
      "text/plain": [
       "Export report to file:   0%|          | 0/1 [00:00<?, ?it/s]"
      ]
     },
     "metadata": {},
     "output_type": "display_data"
    }
   ],
   "source": [
    "# Elaborando Reporte inicial  Compra\n",
    "prof_Compra = ProfileReport(df_compra)\n",
    "prof_Compra.to_file(output_file='Profile_Inicial_Compra.html')"
   ]
  },
  {
   "cell_type": "code",
   "execution_count": 27,
   "metadata": {},
   "outputs": [
    {
     "data": {
      "application/vnd.jupyter.widget-view+json": {
       "model_id": "9cc2531379f147dfa54938f00c1e411c",
       "version_major": 2,
       "version_minor": 0
      },
      "text/plain": [
       "Summarize dataset:   0%|          | 0/5 [00:00<?, ?it/s]"
      ]
     },
     "metadata": {},
     "output_type": "display_data"
    },
    {
     "data": {
      "application/vnd.jupyter.widget-view+json": {
       "model_id": "612944a931c44a78911315e833bb73fc",
       "version_major": 2,
       "version_minor": 0
      },
      "text/plain": [
       "Generate report structure:   0%|          | 0/1 [00:00<?, ?it/s]"
      ]
     },
     "metadata": {},
     "output_type": "display_data"
    },
    {
     "data": {
      "application/vnd.jupyter.widget-view+json": {
       "model_id": "0b57cc5b4c6b4adca0d0df5dda9dc528",
       "version_major": 2,
       "version_minor": 0
      },
      "text/plain": [
       "Render HTML:   0%|          | 0/1 [00:00<?, ?it/s]"
      ]
     },
     "metadata": {},
     "output_type": "display_data"
    },
    {
     "data": {
      "application/vnd.jupyter.widget-view+json": {
       "model_id": "fc8a2e08b3c24143a33369aa02cda640",
       "version_major": 2,
       "version_minor": 0
      },
      "text/plain": [
       "Export report to file:   0%|          | 0/1 [00:00<?, ?it/s]"
      ]
     },
     "metadata": {},
     "output_type": "display_data"
    }
   ],
   "source": [
    "# Elaborando Reporte inicial  Gasto\n",
    "prof_Gasto = ProfileReport(df_gasto)\n",
    "prof_Gasto.to_file(output_file='Profile_Inicial_Gasto.html')"
   ]
  },
  {
   "cell_type": "code",
   "execution_count": 28,
   "metadata": {},
   "outputs": [
    {
     "data": {
      "application/vnd.jupyter.widget-view+json": {
       "model_id": "1e46baab09564d1b9f7c7bdcc5dcd404",
       "version_major": 2,
       "version_minor": 0
      },
      "text/plain": [
       "Summarize dataset:   0%|          | 0/5 [00:00<?, ?it/s]"
      ]
     },
     "metadata": {},
     "output_type": "display_data"
    },
    {
     "data": {
      "application/vnd.jupyter.widget-view+json": {
       "model_id": "be55fc373ad748d7b7778dc91d8563f1",
       "version_major": 2,
       "version_minor": 0
      },
      "text/plain": [
       "Generate report structure:   0%|          | 0/1 [00:00<?, ?it/s]"
      ]
     },
     "metadata": {},
     "output_type": "display_data"
    },
    {
     "data": {
      "application/vnd.jupyter.widget-view+json": {
       "model_id": "d860cefe1d934e83b4342d82a889931c",
       "version_major": 2,
       "version_minor": 0
      },
      "text/plain": [
       "Render HTML:   0%|          | 0/1 [00:00<?, ?it/s]"
      ]
     },
     "metadata": {},
     "output_type": "display_data"
    },
    {
     "data": {
      "application/vnd.jupyter.widget-view+json": {
       "model_id": "083486c563834ba88957edb784513a40",
       "version_major": 2,
       "version_minor": 0
      },
      "text/plain": [
       "Export report to file:   0%|          | 0/1 [00:00<?, ?it/s]"
      ]
     },
     "metadata": {},
     "output_type": "display_data"
    }
   ],
   "source": [
    "# Elaborando Reporte inicial  Localidad\n",
    "prof_Localidad = ProfileReport(df_localidades)\n",
    "prof_Localidad.to_file(output_file='Profile_Inicial_Localidad.html')"
   ]
  },
  {
   "cell_type": "code",
   "execution_count": 29,
   "metadata": {},
   "outputs": [
    {
     "data": {
      "application/vnd.jupyter.widget-view+json": {
       "model_id": "7f6606f2a363406fb3c2e566f23d9755",
       "version_major": 2,
       "version_minor": 0
      },
      "text/plain": [
       "Summarize dataset:   0%|          | 0/5 [00:00<?, ?it/s]"
      ]
     },
     "metadata": {},
     "output_type": "display_data"
    },
    {
     "data": {
      "application/vnd.jupyter.widget-view+json": {
       "model_id": "3d56998e971a4133b4607167fd10168d",
       "version_major": 2,
       "version_minor": 0
      },
      "text/plain": [
       "Generate report structure:   0%|          | 0/1 [00:00<?, ?it/s]"
      ]
     },
     "metadata": {},
     "output_type": "display_data"
    },
    {
     "data": {
      "application/vnd.jupyter.widget-view+json": {
       "model_id": "f0637903e003448fa3cac3971c22d840",
       "version_major": 2,
       "version_minor": 0
      },
      "text/plain": [
       "Render HTML:   0%|          | 0/1 [00:00<?, ?it/s]"
      ]
     },
     "metadata": {},
     "output_type": "display_data"
    },
    {
     "data": {
      "application/vnd.jupyter.widget-view+json": {
       "model_id": "7653244e5b3c40279ab173b45dab3088",
       "version_major": 2,
       "version_minor": 0
      },
      "text/plain": [
       "Export report to file:   0%|          | 0/1 [00:00<?, ?it/s]"
      ]
     },
     "metadata": {},
     "output_type": "display_data"
    }
   ],
   "source": [
    "# Elaborando Reporte inicial  Proveedor\n",
    "prof_Proveedor = ProfileReport(df_proveedores)\n",
    "prof_Proveedor.to_file(output_file='Profile_Inicial_Proveedor.html')"
   ]
  },
  {
   "cell_type": "code",
   "execution_count": 30,
   "metadata": {},
   "outputs": [
    {
     "data": {
      "application/vnd.jupyter.widget-view+json": {
       "model_id": "d0c51b93035b4c93bda9dacd18bf76e1",
       "version_major": 2,
       "version_minor": 0
      },
      "text/plain": [
       "Summarize dataset:   0%|          | 0/5 [00:00<?, ?it/s]"
      ]
     },
     "metadata": {},
     "output_type": "display_data"
    },
    {
     "data": {
      "application/vnd.jupyter.widget-view+json": {
       "model_id": "e6aebeecda9c4dd684a253e266983174",
       "version_major": 2,
       "version_minor": 0
      },
      "text/plain": [
       "Generate report structure:   0%|          | 0/1 [00:00<?, ?it/s]"
      ]
     },
     "metadata": {},
     "output_type": "display_data"
    },
    {
     "data": {
      "application/vnd.jupyter.widget-view+json": {
       "model_id": "a5628a21344745e2ba0186e1552919e8",
       "version_major": 2,
       "version_minor": 0
      },
      "text/plain": [
       "Render HTML:   0%|          | 0/1 [00:00<?, ?it/s]"
      ]
     },
     "metadata": {},
     "output_type": "display_data"
    },
    {
     "data": {
      "application/vnd.jupyter.widget-view+json": {
       "model_id": "80af372faaf74921b497960177acdb19",
       "version_major": 2,
       "version_minor": 0
      },
      "text/plain": [
       "Export report to file:   0%|          | 0/1 [00:00<?, ?it/s]"
      ]
     },
     "metadata": {},
     "output_type": "display_data"
    }
   ],
   "source": [
    "# Elaborando Reporte inicial  Sucursal\n",
    "prof_Sucursal = ProfileReport(df_sucursales)\n",
    "prof_Sucursal.to_file(output_file='Profile_Inicial_Sucursal.html')"
   ]
  },
  {
   "cell_type": "code",
   "execution_count": 31,
   "metadata": {},
   "outputs": [
    {
     "data": {
      "application/vnd.jupyter.widget-view+json": {
       "model_id": "e90cd0bd7c344273b334109f86225054",
       "version_major": 2,
       "version_minor": 0
      },
      "text/plain": [
       "Summarize dataset:   0%|          | 0/5 [00:00<?, ?it/s]"
      ]
     },
     "metadata": {},
     "output_type": "display_data"
    },
    {
     "data": {
      "application/vnd.jupyter.widget-view+json": {
       "model_id": "6389eb3415904ab9b163c148e0519a6a",
       "version_major": 2,
       "version_minor": 0
      },
      "text/plain": [
       "Generate report structure:   0%|          | 0/1 [00:00<?, ?it/s]"
      ]
     },
     "metadata": {},
     "output_type": "display_data"
    },
    {
     "data": {
      "application/vnd.jupyter.widget-view+json": {
       "model_id": "1461fdfdf91c488fb889e03d90af04da",
       "version_major": 2,
       "version_minor": 0
      },
      "text/plain": [
       "Render HTML:   0%|          | 0/1 [00:00<?, ?it/s]"
      ]
     },
     "metadata": {},
     "output_type": "display_data"
    },
    {
     "data": {
      "application/vnd.jupyter.widget-view+json": {
       "model_id": "6ff6887ad3164e8d8d02a5b5dfbf32c6",
       "version_major": 2,
       "version_minor": 0
      },
      "text/plain": [
       "Export report to file:   0%|          | 0/1 [00:00<?, ?it/s]"
      ]
     },
     "metadata": {},
     "output_type": "display_data"
    }
   ],
   "source": [
    "# Elaborando Reporte inicial Venta\n",
    "prof_Venta = ProfileReport(df_ventas)\n",
    "prof_Venta.to_file(output_file='Profile_Inicial_Venta.html')"
   ]
  },
  {
   "cell_type": "code",
   "execution_count": 32,
   "metadata": {},
   "outputs": [
    {
     "data": {
      "application/vnd.jupyter.widget-view+json": {
       "model_id": "b976970dda5d426887186a64a6ef7c6b",
       "version_major": 2,
       "version_minor": 0
      },
      "text/plain": [
       "Summarize dataset:   0%|          | 0/5 [00:00<?, ?it/s]"
      ]
     },
     "metadata": {},
     "output_type": "display_data"
    },
    {
     "data": {
      "application/vnd.jupyter.widget-view+json": {
       "model_id": "1dfcd36a930b42b6b25d657a52f7879c",
       "version_major": 2,
       "version_minor": 0
      },
      "text/plain": [
       "Generate report structure:   0%|          | 0/1 [00:00<?, ?it/s]"
      ]
     },
     "metadata": {},
     "output_type": "display_data"
    },
    {
     "data": {
      "application/vnd.jupyter.widget-view+json": {
       "model_id": "723dd79740ad469ea208cc617bfe723d",
       "version_major": 2,
       "version_minor": 0
      },
      "text/plain": [
       "Render HTML:   0%|          | 0/1 [00:00<?, ?it/s]"
      ]
     },
     "metadata": {},
     "output_type": "display_data"
    },
    {
     "data": {
      "application/vnd.jupyter.widget-view+json": {
       "model_id": "22e175b0b7b8455f96e00aa363df334d",
       "version_major": 2,
       "version_minor": 0
      },
      "text/plain": [
       "Export report to file:   0%|          | 0/1 [00:00<?, ?it/s]"
      ]
     },
     "metadata": {},
     "output_type": "display_data"
    }
   ],
   "source": [
    "# Elaborando Reporte inicial Canal de Venta\n",
    "prof_CanalVenta = ProfileReport(df_canalVenta)\n",
    "prof_CanalVenta.to_file(output_file='Profile_Inicial_CanalVenta.html')"
   ]
  },
  {
   "cell_type": "code",
   "execution_count": 33,
   "metadata": {},
   "outputs": [
    {
     "data": {
      "application/vnd.jupyter.widget-view+json": {
       "model_id": "5fab2a809e314e36bef47b0292999445",
       "version_major": 2,
       "version_minor": 0
      },
      "text/plain": [
       "Summarize dataset:   0%|          | 0/5 [00:00<?, ?it/s]"
      ]
     },
     "metadata": {},
     "output_type": "display_data"
    },
    {
     "data": {
      "application/vnd.jupyter.widget-view+json": {
       "model_id": "6466befe89a94890a181ab39032bd8ce",
       "version_major": 2,
       "version_minor": 0
      },
      "text/plain": [
       "Generate report structure:   0%|          | 0/1 [00:00<?, ?it/s]"
      ]
     },
     "metadata": {},
     "output_type": "display_data"
    },
    {
     "data": {
      "application/vnd.jupyter.widget-view+json": {
       "model_id": "6463852b64404b9086da056ad7c476d1",
       "version_major": 2,
       "version_minor": 0
      },
      "text/plain": [
       "Render HTML:   0%|          | 0/1 [00:00<?, ?it/s]"
      ]
     },
     "metadata": {},
     "output_type": "display_data"
    },
    {
     "data": {
      "application/vnd.jupyter.widget-view+json": {
       "model_id": "fb7e3562adf84c2a85dd4950d7860c2c",
       "version_major": 2,
       "version_minor": 0
      },
      "text/plain": [
       "Export report to file:   0%|          | 0/1 [00:00<?, ?it/s]"
      ]
     },
     "metadata": {},
     "output_type": "display_data"
    }
   ],
   "source": [
    "# Elaborando Reporte inicial Tipos de Gasto\n",
    "prof_TipoGasto = ProfileReport(df_tipoGasto)\n",
    "prof_TipoGasto.to_file(output_file='Profile_Inicial_TipoGasto.html')"
   ]
  },
  {
   "cell_type": "code",
   "execution_count": null,
   "metadata": {},
   "outputs": [],
   "source": []
  },
  {
   "cell_type": "code",
   "execution_count": 34,
   "metadata": {},
   "outputs": [],
   "source": [
    "class normalizar_dataFrame:\n",
    "    def __init__(self):\n",
    "        return None\n",
    "    def eliminar_columna_vacia(self,df): \n",
    "        for i in df:\n",
    "            columna_vacia = 0\n",
    "            columna_vacia = df[i].isnull().sum()/df.shape[0]\n",
    "            if columna_vacia == 1:\n",
    "                df.drop(columns=i,inplace=True)\n",
    "\n",
    "    def normalizar_strings(self,df):\n",
    "        for i in df:\n",
    "            if df[i].dtype == 'O':\n",
    "                df[i] = df[i].str.title()\n",
    "\n",
    "    def llenar_nulos(self,df):\n",
    "        for i in df:\n",
    "            if df[i].dtype == 'O':\n",
    "                df[i] = df[i].fillna('Sin datos')\n",
    "            else:\n",
    "                df[i] = df[i].fillna(0)\n",
    "\n",
    "    def eliminar_duplicados(self,df):\n",
    "        for i in df:\n",
    "            df[i].drop_duplicates(inplace=True)\n",
    "    \n",
    "    def transformar_datos(self,df):\n",
    "        if df == df_clientes:\n",
    "            df['X'][df.X > 0] = df['X'][df.X > 0] * -1\n",
    "            df['Y'][df.Y > 0] = df['Y'][df.Y > 0] * -1\n",
    "\n",
    "            df['Longitud'] = df['Y']\n",
    "            df['Latitud'] = df['X']\n",
    "            df.drop(columns=['X','Y'],inplace=True)\n",
    "            df['Rango_Etario'] = '-'\n",
    "            df['Rango_Etario'][df.Edad <= 30] = '1_Hasta 30 años'\n",
    "            df['Rango_Etario'][(df.Edad <= 40) & (df.Rango_Etario == '-')] = '2_De 31 a 40 años'\n",
    "            df['Rango_Etario'][(df.Edad <= 50) & (df.Rango_Etario == '-')] = '3_De 41 a 50 años'\n",
    "            df['Rango_Etario'][(df.Edad <= 60) & (df.Rango_Etario == '-')] = '4_De 51 a 60 años'\n",
    "            df['Rango_Etario'][(df.Edad > 60) & (df.Rango_Etario == '-')] = '5_Desde 60 años'\n",
    "        \n",
    "        elif df==df_compra:\n",
    "            df.drop(columns=['Fecha_Año','Fecha_Mes','Fecha_Periodo'],inplace=True)\n",
    "\n",
    "            df['Fecha'] = pd.to_datetime(df['Fecha'])\n",
    "\n",
    "\n",
    "        elif df==df_gasto:\n",
    "            df['Fecha'] = pd.to_datetime(df['Fecha'])\n",
    "\n",
    "\n",
    "        elif df==df_localidades:\n",
    "            df.rename(columns={'centroide_lon':'Longitud','centroide_lat':'Latitud'},inplace=True)\n",
    "\n",
    "        \n",
    "        elif df==df_proveedores:\n",
    "            df.rename(columns={'Address':'Domicilio','City':'Ciudad','State':'Provincia','Country':'Pais','departamen':'Localidad'},inplace=True)\n",
    "\n",
    "            df.Ciudad = df['Ciudad'].str.capitalize()\n",
    "            df.Provincia = df['Provincia'].str.capitalize()\n",
    "            df.Pais = df['Pais'].str.capitalize()\n",
    "            df.Localidad = df['Localidad'].str.capitalize()\n",
    "\n",
    "        elif df==df_proveedores:\n",
    "           pass\n",
    "        \n",
    "        elif df==df_tipoGasto:\n",
    "           pass\n",
    "        elif df==df_ventas:\n",
    "            pass\n",
    "        elif df==df_canalVenta:\n",
    "            df.rename(columns={\"CODIGO\":\"IdCanal\",\"DESCRIPCION\":\"Canal\"},inplace=True)\n",
    "            df.set_index(\"IdCanal\",inplace=True)\n",
    "\n",
    "        return df\n"
   ]
  },
  {
   "cell_type": "code",
   "execution_count": null,
   "metadata": {},
   "outputs": [],
   "source": []
  }
 ],
 "metadata": {
  "kernelspec": {
   "display_name": "Python 3.10.4 64-bit",
   "language": "python",
   "name": "python3"
  },
  "language_info": {
   "codemirror_mode": {
    "name": "ipython",
    "version": 3
   },
   "file_extension": ".py",
   "mimetype": "text/x-python",
   "name": "python",
   "nbconvert_exporter": "python",
   "pygments_lexer": "ipython3",
   "version": "3.8.10"
  },
  "orig_nbformat": 4,
  "vscode": {
   "interpreter": {
    "hash": "0924f6cd1d5c63a1a3921f600017fca30abae44e7906b688aa257ce50eaba5b6"
   }
  }
 },
 "nbformat": 4,
 "nbformat_minor": 2
}
