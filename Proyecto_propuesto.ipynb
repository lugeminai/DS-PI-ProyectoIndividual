{
 "cells": [
  {
   "cell_type": "code",
   "execution_count": 1,
   "metadata": {},
   "outputs": [],
   "source": [
    "import pandas as pd\n",
    "import numpy as np\n",
    "import seaborn as sns\n",
    "import matplotlib.pyplot as plt\n",
    "sns.set()\n",
    "from pandas_profiling import ProfileReport\n",
    "from pathlib import Path"
   ]
  },
  {
   "cell_type": "code",
   "execution_count": 5,
   "metadata": {},
   "outputs": [],
   "source": [
    "ds_path= Path(\"Datasets\")       #Nombre de la carpeta donde se encuentran los archivos de los Datasets\n",
    "\n",
    "def leerCSV_y_concatClient_o_Sucur(csv):\n",
    "    df_list= []\n",
    "    for file in ds_path.glob(f'{csv}*.csv'):\n",
    "        print(file)\n",
    "        df = pd.read_csv(file, delimiter = ';', decimal=\",\", encoding = \"utf-8\")\n",
    "        df_list.append(df)\n",
    "    return pd.concat((df_list), ignore_index=True, sort=False)\n",
    "\n",
    "def leerCSV_y_concat(csv):\n",
    "    df_list= []\n",
    "    for file in ds_path.glob(f'{csv}*.csv'):\n",
    "        print(file)\n",
    "        df = pd.read_csv(file, delimiter = ',',  encoding = \"utf-8\")\n",
    "        df_list.append(df)\n",
    "    return pd.concat((df_list), ignore_index=True, sort=False)\n",
    "\n",
    "def leerCSV_y_concatProveedor(csv):\n",
    "    df_list= []\n",
    "    for file in ds_path.glob(f'{csv}*.csv'):\n",
    "        print(file)\n",
    "        df = pd.read_csv(file, delimiter = ',',  encoding = \"ansi\")\n",
    "        df_list.append(df)\n",
    "    return pd.concat((df_list), ignore_index=True, sort=False)\n",
    "\n",
    "    \n",
    "\n",
    "# df_clientes.tail(5)"
   ]
  },
  {
   "cell_type": "code",
   "execution_count": 6,
   "metadata": {},
   "outputs": [
    {
     "name": "stdout",
     "output_type": "stream",
     "text": [
      "Datasets\\Clientes.csv\n",
      "Datasets\\Clientes_Dic2020.csv\n",
      "Datasets\\Compra.csv\n",
      "Datasets\\Gasto.csv\n",
      "Datasets\\Localidades.csv\n",
      "Datasets\\Proveedores.csv\n",
      "Datasets\\Sucursales.csv\n",
      "Datasets\\Venta.csv\n",
      "Datasets\\Venta_Dic2020.csv\n",
      "Datasets\\TiposDeGasto.csv\n"
     ]
    }
   ],
   "source": [
    "# Se genera dataframes a partir de los archivos de la carpeta Datasets\n",
    "df_clientes= leerCSV_y_concatClient_o_Sucur('clien')\n",
    "df_compra=leerCSV_y_concat('compr')\n",
    "df_gasto=leerCSV_y_concat('gasto')\n",
    "df_localidades= leerCSV_y_concat('local')\n",
    "df_proveedores= leerCSV_y_concatProveedor('provee')\n",
    "df_sucursales= leerCSV_y_concatClient_o_Sucur('sucur')\n",
    "df_ventas= leerCSV_y_concat('vent')\n",
    "df_tipoGasto = leerCSV_y_concat('tiposdegas')\n"
   ]
  }
 ],
 "metadata": {
  "kernelspec": {
   "display_name": "Python 3.10.4 64-bit",
   "language": "python",
   "name": "python3"
  },
  "language_info": {
   "codemirror_mode": {
    "name": "ipython",
    "version": 3
   },
   "file_extension": ".py",
   "mimetype": "text/x-python",
   "name": "python",
   "nbconvert_exporter": "python",
   "pygments_lexer": "ipython3",
   "version": "3.10.4"
  },
  "orig_nbformat": 4,
  "vscode": {
   "interpreter": {
    "hash": "0924f6cd1d5c63a1a3921f600017fca30abae44e7906b688aa257ce50eaba5b6"
   }
  }
 },
 "nbformat": 4,
 "nbformat_minor": 2
}
