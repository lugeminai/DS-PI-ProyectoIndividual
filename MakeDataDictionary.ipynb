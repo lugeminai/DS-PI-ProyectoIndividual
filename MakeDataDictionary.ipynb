{
 "cells": [
  {
   "cell_type": "code",
   "execution_count": 3,
   "metadata": {},
   "outputs": [],
   "source": [
    "import pandas as pd\n",
    "class create_datadic:\n",
    "    # clase que brinda las funciones para crear un diccionario de dataos a un dataset\n",
    "    def __init__(self):\n",
    "        return None"
   ]
  },
  {
   "cell_type": "code",
   "execution_count": null,
   "metadata": {},
   "outputs": [],
   "source": [
    "def make_my_data_dictionary(self, dataFrame):\n",
    "        '''Crear un diccionario de datos inicial que excluya las definiciones del significado de las características'''\n",
    "        col_ = dataFrame.columns\n",
    "        df_DataDict = {}\n",
    "\n",
    "        for col in col_:\n",
    "                df_DataDict[col] = {\n",
    "                               'Tipo de Dato': str(df.dtypes[col]),\n",
    "                               'Length': len(df[col]),\n",
    "                               'Cantidad de nulos': sum(df[col].isna()),\n",
    "                               'Size(Memory)': df.memory_usage()[col],\n",
    "                               'Definicion': str('')\n",
    "                                }\n",
    "\n",
    "        df_DD = pd.DataFrame(df_DataDict)\n",
    "\n",
    "        return df_DD\n",
    "\n",
    "def define_data_meaning(self, df_data_dictionary):\n",
    "    '''Proporcione rápidamente información sobre el significado de cada columna y transpóngala a un diccionario utilizable'''\n",
    "\n",
    "    col_ = df_data_dictionary.columns\n",
    "    d = 'Definition'\n",
    "\n",
    "    for col in col_:\n",
    "        df_data_dictionary[col][d] = input('Proporciona una definicion de dato para: {}'.format(col))\n",
    "\n",
    "    df_data_dictionary = df_data_dictionary.transpose()\n",
    "\n",
    "    return df_data_dictionary\n",
    "\n",
    "def update_dd_definition(self, df_data_dictionary, attribute):\n",
    "    try:\n",
    "        df_dd = df_data_dictionary.transpose()\n",
    "        df_dd[attribute]['Definition'] = input('Proporciona una definicion de dato para: {}'.format(attribute))\n",
    "        df_dd = df_dd.transpose()\n",
    "        return df_dd\n",
    "    except:\n",
    "        print('Lo sentimos, existe un error. Revisa la definiciondel dato y vuelve a intentar')\n",
    "\n"
   ]
  }
 ],
 "metadata": {
  "kernelspec": {
   "display_name": "Python 3.10.4 64-bit",
   "language": "python",
   "name": "python3"
  },
  "language_info": {
   "codemirror_mode": {
    "name": "ipython",
    "version": 3
   },
   "file_extension": ".py",
   "mimetype": "text/x-python",
   "name": "python",
   "nbconvert_exporter": "python",
   "pygments_lexer": "ipython3",
   "version": "3.10.4"
  },
  "orig_nbformat": 4,
  "vscode": {
   "interpreter": {
    "hash": "96405ba7407b28efe9e3ae7d01d7ee84d7baca5e69c87ffa47fdb3000f5cfa0b"
   }
  }
 },
 "nbformat": 4,
 "nbformat_minor": 2
}
